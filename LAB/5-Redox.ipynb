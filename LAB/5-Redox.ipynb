{
 "cells": [
  {
   "cell_type": "markdown",
   "metadata": {},
   "source": [
    "# LAB05 Computation of standard redox potentials\n",
    "(from https://education.molssi.org/qm-tools/05-redox/index.html)\n",
    "\n",
    "## Questions\n",
    "* How can you calculate the redox potential of a reaction?\n",
    "\n",
    "## Objectives\n",
    "* Perform geometry optimization calculations.\n",
    "* Perform frequency calculations.\n",
    "* Calculate the free energy correction from the frequencies.\n",
    "\n",
    "\n",
    "## Overview\n",
    "One of the most important research problems in chemistry is to find efficient ways to accomplish reactions such as CO2 reduction or water splitting that make chemical fuels from electricity. If this could be accomplished efficiently and inexpensively, we would be one step further on the way to a renewable energy economy.\n",
    "\n",
    "The redox potential is a molecular property in chemistry that is very important for renewable energy problems. It measures the tendency of a species to gain or lose electrons in solution. In order to apply computational chemistry to renewable energy problems, being able to compute redox potentials for molecular species is incredibly important.\n",
    "\n",
    "In order to compute a redox potential, it is important to understand the basic physical principles of this quantity. For example, take this half-reaction that involves the nitrobenzene molecule:\n",
    "\n",
    "![image.png](redox1.png \"redox1\")\n",
    "\n",
    "This redox potential measures the tendency of nitrobenzene to gain an electron to produce nitrobenzene radical anion. More negative values of Eº mean that the species is less likely to gain electrons, or that it requires more energy to reduce. To make a comparison, consider this redox half-reaction that involves acetophenone:\n",
    "\n",
    "![image.png](redox2.png \"redox2\")\n",
    "\n",
    "The more negative Eº shows that acetophenone requires more energy to reduce compared to nitrobenzene. Alternatively, acetophenone radical anion would spontaneously transfer an electron to nitrobenzene if they were combined. In this process, the Gibbs free energy of the reaction is obtained by subtracting the redox potentials and multiplying by the number of electrons, in this case, ∆G = –0.73 eV per molecule, or –17 kcal/mol.\n",
    "\n",
    "Going back to our individual half-reactions, the redox potential is related to the Gibbs free energy of the half reaction as:\n",
    "\n",
    "![image.png](redox3.png \"redox3\")\n",
    "\n",
    "Here, Eº is the redox potential corresponding to the quantity that the experiment measures. This is the potential (voltage) of an electrode surface where reactant and product are in equilibrium. More negative potentials correspond to higher energy electrons needed to reduce the reactant.\n",
    "\n",
    "G is the free energy change of the reduction half-reaction in solution, where the electron comes from the vacuum, and the molecules are in solution. n is the number of electrons transferred (in our case, n = 1) and F is the Faraday constant; its value is exactly 1 eV/V and serves to convert units of energy (in eV) into units of potential (V).\n",
    "\n",
    "The electrons in the experiment do not come from vacuum, but from an electrode whose potential is measured relative to a reference electrode. We choose to use the normal hydrogen electrode as a reference, where the energy of the electrons is –4.43 V relative to the vacuum, thus we subtract this value from our answer.\n",
    "\n",
    "Now that we have seen the physical principles, we’d like to obtain computationally and this would allow us to predict a redox potential. is the Gibbs free energy of reduction, and can be computed as a free energy difference: where G(●) is the Gibbs free energy of a species in solution. Computationally, this is broken down into several contributions:\n",
    "\n",
    "The first two terms and represent the ground-state electronic energy plus the solvation free energy term. These two terms are computed together as the ground-state energy when running a Psi4 energy calculation in implicit solvent. The equilibrium (minimum energy) structure should be used, but you don’t necessarily need to use implicit solvent, or even the same functional or basis set to perform the minimization, as long as you remain consistent for the oxidized and reduced species.\n",
    "\n",
    "H – TS represent the enthalpy and entropy terms in the Gibbs free energy. We will approximate these terms by treating the molecule as having three translational and three rotational degrees of freedom, and represent all of the internal motions using harmonic oscillators. The translational contributions to H and S come from known formulas for the ideal gas, the rotational contributions use a rigid rotor approximation that takes information from the molecular geometry, and the vibrational contribution requires a harmonic frequency calculation (including the zero point vibration). The frequency analysis calculation in Psi4 provides all of this information."
   ]
  },
  {
   "cell_type": "markdown",
   "metadata": {},
   "source": [
    "## Summary of the calculation procedure\n",
    "In summary, here are the steps for computing the redox potential:\n",
    "\n",
    "1. For the neutral molecule, follow these steps to compute the Gibbs free energy:\n",
    "    * Calculate an energy minimized structure.\n",
    "    * Calculate the harmonic free energy correction at the energy minimized structure.\n",
    "    * Calculate the ground state energy plus ∆Gsolv from implicit solvent. (Part (c) may be done at a higher level of theory than (a) and (b)).\n",
    "    * Add the results from (b) and (c) to get the free energy of the species.\n",
    "2. Repeat the above steps for the anion radical.\n",
    "3. Calculate ∆Gred = G(A–) – G(A). This should be a negative number because most molecules in solvent are able to accommodate an additional electron.\n",
    "4. Convert this energy to eV by multiplying your quantity (in a.u.) by 27.211.\n",
    "5. Multiply by –1 and subtract 4.43 to obtain the redox potential w/r.t. NHE.\n",
    "\n",
    "In this exercise, we will study neutral nitrobenzene and the nitrobenzene anion to calculate the redox potential."
   ]
  },
  {
   "cell_type": "markdown",
   "metadata": {},
   "source": [
    "### Part A: Initial molecule specification and optimizations"
   ]
  },
  {
   "cell_type": "code",
   "execution_count": 1,
   "metadata": {},
   "outputs": [],
   "source": [
    "import psi4\n",
    "import numpy as np"
   ]
  },
  {
   "cell_type": "code",
   "execution_count": 2,
   "metadata": {},
   "outputs": [
    {
     "data": {
      "text/plain": [
       "-434.31176489184566"
      ]
     },
     "execution_count": 2,
     "metadata": {},
     "output_type": "execute_result"
    }
   ],
   "source": [
    "psi4.set_memory('2 GB')\n",
    "psi4.set_num_threads(2)\n",
    "\n",
    "nitrobenz = psi4.geometry(\"\"\"\n",
    "symmetry c1\n",
    "0 1\n",
    "C       -3.5048225421    0.0711805817    0.1456897967\n",
    "C       -2.1242069042    0.0676957680    0.1437250554\n",
    "C       -1.4565144627    1.2657898054    0.0112805274\n",
    "C       -2.1243502782    2.4616659201   -0.1394727314\n",
    "C       -3.5049153121    2.4578370923   -0.1457245349\n",
    "C       -4.1936081427    1.2645153194    0.0001955136\n",
    "H       -4.0381801262   -0.8505059514    0.2559173303\n",
    "H       -1.5620288767   -0.8346363876    0.2389155097\n",
    "H       -1.5619534389    3.3630228735   -0.2428628637\n",
    "H       -4.0382012347    3.3785626398   -0.2639829256\n",
    "H       -5.2650389640    1.2641688843   -0.0022762561\n",
    "N       -0.0085078655    1.2648596634   -0.0056641832\n",
    "O        0.5639468379    0.1670702678   -0.1297708787\n",
    "O        0.5668300231    2.3598431617    0.1306822195\n",
    "\"\"\")\n",
    "\n",
    "psi4.set_output_file('00_initial_energy.dat', False)\n",
    "psi4.energy('B3LYP/3-21G')"
   ]
  },
  {
   "cell_type": "markdown",
   "metadata": {},
   "source": [
    "### Part B: Geometry optimization (gas phase)"
   ]
  },
  {
   "cell_type": "code",
   "execution_count": 3,
   "metadata": {},
   "outputs": [
    {
     "name": "stdout",
     "output_type": "stream",
     "text": [
      "Optimizer: Optimization complete!\n"
     ]
    },
    {
     "data": {
      "text/plain": [
       "-434.3175493752826"
      ]
     },
     "execution_count": 3,
     "metadata": {},
     "output_type": "execute_result"
    }
   ],
   "source": [
    "psi4.set_output_file('01_geometry_optimization.dat', False)\n",
    "psi4.set_options({'g_convergence': 'gau_tight'}) # this forces the optimizer to get close to the minimum\n",
    "psi4.optimize('B3LYP/3-21G', molecule=nitrobenz)"
   ]
  },
  {
   "cell_type": "markdown",
   "metadata": {},
   "source": [
    "### Part C: Frequency calculation"
   ]
  },
  {
   "cell_type": "code",
   "execution_count": 4,
   "metadata": {},
   "outputs": [
    {
     "name": "stdout",
     "output_type": "stream",
     "text": [
      " 73 displacements needed.\n",
      " 1 2 3 4 5 6 7 8 9 10 11 12 13 14 15 16 17 18 19 20 21 22 23 24 25 26 27 28 29 30 31 32 33 34 35 36 37 38 39 40 41 42 43 44 45 46 47 48 49 50 51 52 53 54 55 56 57 58 59 60 61 62 63 64 65 66 67 68 69 70 71 72 73\n",
      "Warning: used thermodynamics relations inappropriate for low-frequency modes: ['80.4433' '182.6298' '260.3978' '405.4347' '441.4981' '457.6641'\n",
      " '498.9109']\n"
     ]
    }
   ],
   "source": [
    "psi4.set_output_file('02_frequency_analysis.dat', False)\n",
    "b3lyp_321g_energy, b3lyp_321g_wfn = psi4.frequency('B3LYP/3-21G', molecule=nitrobenz, return_wfn=True, dertype='gradient')"
   ]
  },
  {
   "cell_type": "markdown",
   "metadata": {},
   "source": [
    "We have to define a function called `parse_free_energy` to extract the free energy from the output file."
   ]
  },
  {
   "cell_type": "code",
   "execution_count": 5,
   "metadata": {},
   "outputs": [],
   "source": [
    "# define a function called parse_free_energy to extract the free energy from the output file\n",
    "\n",
    "def parse_free_energy(filename):\n",
    "    \"\"\" Parse out the free energy from a Psi4 vibrational analysis output file in a.u. \"\"\"\n",
    "    for line in open(filename).readlines():\n",
    "        if \"Correction G\" in line:\n",
    "            return float(line.split()[-2])"
   ]
  },
  {
   "cell_type": "code",
   "execution_count": 6,
   "metadata": {},
   "outputs": [
    {
     "data": {
      "text/plain": [
       "0.07134802"
      ]
     },
     "execution_count": 6,
     "metadata": {},
     "output_type": "execute_result"
    }
   ],
   "source": [
    "parse_free_energy('02_frequency_analysis.dat')"
   ]
  },
  {
   "cell_type": "markdown",
   "metadata": {},
   "source": [
    "### Part D: Energy calculation with large basis set + PCM solvent model"
   ]
  },
  {
   "cell_type": "code",
   "execution_count": 9,
   "metadata": {},
   "outputs": [
    {
     "ename": "ModuleNotFoundError",
     "evalue": "No module named 'pcmsolver'",
     "output_type": "error",
     "traceback": [
      "\u001b[1;31m---------------------------------------------------------------------------\u001b[0m",
      "\u001b[1;31mModuleNotFoundError\u001b[0m                       Traceback (most recent call last)",
      "\u001b[1;32m<ipython-input-9-3e727e2daa59>\u001b[0m in \u001b[0;36m<module>\u001b[1;34m\u001b[0m\n\u001b[1;32m----> 1\u001b[1;33m \u001b[1;32mimport\u001b[0m \u001b[0mpcmsolver\u001b[0m\u001b[1;33m\u001b[0m\u001b[1;33m\u001b[0m\u001b[0m\n\u001b[0m\u001b[0;32m      2\u001b[0m \u001b[1;33m\u001b[0m\u001b[0m\n\u001b[0;32m      3\u001b[0m psi4.set_options({\n\u001b[0;32m      4\u001b[0m   \u001b[1;34m'pcm'\u001b[0m\u001b[1;33m:\u001b[0m \u001b[1;32mTrue\u001b[0m\u001b[1;33m,\u001b[0m\u001b[1;33m\u001b[0m\u001b[1;33m\u001b[0m\u001b[0m\n\u001b[0;32m      5\u001b[0m   \u001b[1;34m'pcm_scf_type'\u001b[0m\u001b[1;33m:\u001b[0m \u001b[1;34m'total'\u001b[0m\u001b[1;33m,\u001b[0m\u001b[1;33m\u001b[0m\u001b[1;33m\u001b[0m\u001b[0m\n",
      "\u001b[1;31mModuleNotFoundError\u001b[0m: No module named 'pcmsolver'"
     ]
    }
   ],
   "source": [
    "import pcmsolver\n",
    "\n",
    "psi4.set_options({\n",
    "  'pcm': True,\n",
    "  'pcm_scf_type': 'total',\n",
    "})\n",
    "\n",
    "psi4.pcm_helper(\"\"\"\n",
    "   Units = Angstrom\n",
    "   Medium {\n",
    "   SolverType = CPCM\n",
    "   Solvent = Acetonitrile\n",
    "   }\n",
    "   Cavity {\n",
    "   RadiiSet = UFF\n",
    "   Type = GePol\n",
    "   Scaling = False\n",
    "   Area = 0.3\n",
    "   Mode = Implicit\n",
    "   }\n",
    "\"\"\")\n",
    "\n",
    "psi4.set_output_file('03_solvent_energy.dat', False)\n",
    "psi4.energy('B3LYP/heavy-aug-cc-pVDZ', molecule=nitrobenz)"
   ]
  },
  {
   "cell_type": "markdown",
   "metadata": {},
   "source": [
    "### Exercise: The nitrobenzene anion\n",
    "\n",
    "Using the commands you already learned, calculate all the same quantities for the reduced nitrobenzene (-1 charge). In your molecule specification section, you will need to change your charge and multiplicity to reflect the correct values for the anion. If you already carried out calculations on the neutral molecule in this notebook, you will need to start a new notebook or click Kernel -> Restart & Clear Output before working on the anion. For the anion calculations, you need to change the refernce using the command `psi4.set_options({'reference':'UKS'})` which should be placed right before the energy call."
   ]
  },
  {
   "cell_type": "code",
   "execution_count": null,
   "metadata": {},
   "outputs": [],
   "source": [
    "psi4.set_memory('2 GB')\n",
    "psi4.set_num_threads(2)\n",
    "\n",
    "# Anion\n",
    "nitrobenzA = psi4.geometry(\"\"\"\n",
    "symmetry c1\n",
    "-1 2\n",
    "C       -3.5048225421    0.0711805817    0.1456897967\n",
    "C       -2.1242069042    0.0676957680    0.1437250554\n",
    "C       -1.4565144627    1.2657898054    0.0112805274\n",
    "C       -2.1243502782    2.4616659201   -0.1394727314\n",
    "C       -3.5049153121    2.4578370923   -0.1457245349\n",
    "C       -4.1936081427    1.2645153194    0.0001955136\n",
    "H       -4.0381801262   -0.8505059514    0.2559173303\n",
    "H       -1.5620288767   -0.8346363876    0.2389155097\n",
    "H       -1.5619534389    3.3630228735   -0.2428628637\n",
    "H       -4.0382012347    3.3785626398   -0.2639829256\n",
    "H       -5.2650389640    1.2641688843   -0.0022762561\n",
    "N       -0.0085078655    1.2648596634   -0.0056641832\n",
    "O        0.5639468379    0.1670702678   -0.1297708787\n",
    "O        0.5668300231    2.3598431617    0.1306822195\n",
    "\"\"\")\n",
    "\n",
    "psi4.set_options({'reference':'UKS'}\n",
    "psi4.set_output_file('10_initial_energy.dat', False)\n",
    "psi4.energy('B3LYP/3-21G')"
   ]
  },
  {
   "cell_type": "code",
   "execution_count": null,
   "metadata": {},
   "outputs": [],
   "source": [
    "psi4.set_output_file('10_geometry_optimization.dat', False)\n",
    "psi4.set_options({'g_convergence': 'gau_tight'}) # this forces the optimizer to get close to the minimum\n",
    "psi4.optimize('B3LYP/3-21G', molecule=nitrobenzA)"
   ]
  },
  {
   "cell_type": "code",
   "execution_count": null,
   "metadata": {},
   "outputs": [],
   "source": [
    "psi4.set_output_file('20_frequency_analysis.dat', False)\n",
    "b3lyp_321g_energy, b3lyp_321g_wfn = psi4.frequency('B3LYP/3-21G', molecule=nitrobenzA, return_wfn=True, dertype='gradient')"
   ]
  },
  {
   "cell_type": "code",
   "execution_count": null,
   "metadata": {},
   "outputs": [],
   "source": [
    "parse_free_energy('20_frequency_analysis.dat')"
   ]
  },
  {
   "cell_type": "code",
   "execution_count": null,
   "metadata": {},
   "outputs": [],
   "source": [
    "psi4.set_options({\n",
    "  'pcm': True,\n",
    "  'pcm_scf_type': 'total',\n",
    "})\n",
    "\n",
    "psi4.pcm_helper(\"\"\"\n",
    "   Units = Angstrom\n",
    "   Medium {\n",
    "   SolverType = CPCM\n",
    "   Solvent = Acetonitrile\n",
    "   }\n",
    "   Cavity {\n",
    "   RadiiSet = UFF\n",
    "   Type = GePol\n",
    "   Scaling = False\n",
    "   Area = 0.3\n",
    "   Mode = Implicit\n",
    "   }\n",
    "\"\"\")\n",
    "\n",
    "psi4.set_output_file('30_solvent_energy.dat', False)\n",
    "psi4.energy('B3LYP/heavy-aug-cc-pVDZ', molecule=nitrobenzA)"
   ]
  },
  {
   "cell_type": "markdown",
   "metadata": {},
   "source": [
    "### Solution\n",
    "\n",
    "Your final results should be as follows.\n",
    "\n",
    "Charge on nitrobenzene\t| Minimized E (gas) | Free energy correction (gas)|\tSCF E + Delta G Solvation\t| Total Gibbs Free Energy\n",
    "--------|--------|--------|--------|--------\n",
    "0 (oxidized)\t |-434.317549 |\t0.071346\t |-436.813669\t |-436.74232254\n",
    "-1 (reduced)\t| -434.338874 |\t0.068022\t |-436.942923\t |-436.874901\n",
    " \t \t \t \t \n",
    "To calculate E standard\n",
    "\n",
    "∆Gred = -436.874901+436.74232254 = -0.13257846 a.u. = -3.607645 eV\n",
    "\n",
    "-∆Gred / nF = 3.607645 V\n",
    "\n",
    "Eº = -∆Gred / nF - 4.43 V = -0.82 V"
   ]
  },
  {
   "cell_type": "markdown",
   "metadata": {},
   "source": [
    "### Key Points\n",
    "\n",
    "* The overall redox potential energy should be between -1 and -10 eV.\n",
    "* The free energy of a radical anion should be more negative than the neutral molecule."
   ]
  },
  {
   "cell_type": "code",
   "execution_count": null,
   "metadata": {},
   "outputs": [],
   "source": [
    "# now for the case of acetophenone\n",
    "psi4.set_memory('2 GB')\n",
    "psi4.set_num_threads(2)\n",
    "\n",
    "acetophenone = psi4.geometry(\"\"\"\n",
    "symmetry c1\n",
    "0 1\n",
    " C                 -0.00000100    1.07431000   -0.00005100\n",
    " O                 -0.00000200    2.31943700   -0.00009300\n",
    " C                 -1.29543300    0.32464600    0.02052200\n",
    " C                 -1.44515300   -0.95854900    0.56779600\n",
    " C                 -2.42954600    1.00709600   -0.44683000\n",
    " C                 -2.70396500   -1.56099700    0.60733300\n",
    " H                 -0.58746100   -1.46824000    0.98753900\n",
    " C                 -3.68093600    0.40021100   -0.42186100\n",
    " H                 -2.29805300    2.01506400   -0.82040700\n",
    " C                 -3.81965300   -0.88976900    0.10208800\n",
    " H                 -2.81497700   -2.54851100    1.03984900\n",
    " H                 -4.54834900    0.92886200   -0.79936400\n",
    " H                 -4.79422300   -1.36358800    0.12750400\n",
    " C                  1.29543200    0.32464500   -0.02055900\n",
    " C                  1.44515800   -0.95859500   -0.56772500\n",
    " C                  2.42954200    1.00713600    0.44674400\n",
    " C                  2.70397000   -1.56104600   -0.60720000\n",
    " H                  0.58747000   -1.46832000   -0.98743500\n",
    " C                  3.68093200    0.40024800    0.42183500\n",
    " H                  2.29804400    2.01513400    0.82023700\n",
    " C                  3.81965400   -0.88977600   -0.10200400\n",
    " H                  2.81498500   -2.54859700   -1.03963300\n",
    " H                  4.54834400    0.92893100    0.79929900\n",
    " H                  4.79422400   -1.36359700   -0.12737200\n",
    "\"\"\")\n",
    "\n",
    "psi4.set_output_file('00_initial_energy.dat', False)\n",
    "psi4.energy('B3LYP/3-21G')"
   ]
  },
  {
   "cell_type": "code",
   "execution_count": null,
   "metadata": {},
   "outputs": [],
   "source": []
  },
  {
   "cell_type": "code",
   "execution_count": null,
   "metadata": {},
   "outputs": [],
   "source": [
    "psi4.set_memory('2 GB')\n",
    "psi4.set_num_threads(2)\n",
    "\n",
    "# Anion\n",
    "acetophenoneA = psi4.geometry(\"\"\"\n",
    "symmetry c1\n",
    "-1 2\n",
    " C                  0.00000100    0.97687000    0.00002000\n",
    " O                  0.00000000    2.27740700   -0.00001000\n",
    " C                 -1.28963400    0.27392800    0.01177200\n",
    " C                 -1.53286700   -1.08176100    0.36531500\n",
    " C                 -2.43762100    1.07003200   -0.26843700\n",
    " C                 -2.82291500   -1.60772800    0.37221300\n",
    " H                 -0.71115700   -1.70541200    0.69098400\n",
    " C                 -3.71623700    0.53862700   -0.26954600\n",
    " H                 -2.24521200    2.11578800   -0.47358500\n",
    " C                 -3.93161600   -0.81720700    0.03894000\n",
    " H                 -2.97000400   -2.64656900    0.65804900\n",
    " H                 -4.56426000    1.17709900   -0.50599100\n",
    " H                 -4.93263500   -1.23645000    0.03830400\n",
    " C                  1.28963400    0.27392800   -0.01175200\n",
    " C                  1.53286100   -1.08176200   -0.36530000\n",
    " C                  2.43762700    1.07003000    0.26844200\n",
    " C                  2.82290900   -1.60773000   -0.37221800\n",
    " H                  0.71114600   -1.70541100   -0.69095800\n",
    " C                  3.71624300    0.53862400    0.26953000\n",
    " H                  2.24522100    2.11578500    0.47359500\n",
    " C                  3.93161500   -0.81721000   -0.03896100\n",
    " H                  2.96999200   -2.64657000   -0.65805700\n",
    " H                  4.56427000    1.17709500    0.50596400\n",
    " H                  4.93263400   -1.23645400   -0.03834000\n",
    "\"\"\")\n",
    "\n",
    "psi4.set_options({'reference':'UKS'}\n",
    "psi4.set_output_file('10_initial_energy.dat', False)\n",
    "psi4.energy('B3LYP/3-21G')"
   ]
  }
 ],
 "metadata": {
  "kernelspec": {
   "display_name": "Python 3",
   "language": "python",
   "name": "python3"
  },
  "language_info": {
   "codemirror_mode": {
    "name": "ipython",
    "version": 3
   },
   "file_extension": ".py",
   "mimetype": "text/x-python",
   "name": "python",
   "nbconvert_exporter": "python",
   "pygments_lexer": "ipython3",
   "version": "3.7.3"
  }
 },
 "nbformat": 4,
 "nbformat_minor": 2
}
