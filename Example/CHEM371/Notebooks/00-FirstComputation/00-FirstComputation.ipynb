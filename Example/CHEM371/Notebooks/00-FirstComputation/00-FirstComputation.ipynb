{
 "cells": [
  {
   "cell_type": "markdown",
   "metadata": {
    "slideshow": {
     "slide_type": "slide"
    }
   },
   "source": [
    "# Tutorial 00: Your first quantum chemistry computation\n",
    "\n",
    "In this tutorial you will learn how to run your first quantum chemistry computation using jupyter and psi4!\n",
    "We will study a very simple molecule: H$_2$.\n",
    "\n",
    "**To follow the tutorial, type the commands that you see in the gray boxes in a jupyter notebook in ChemCompute**"
   ]
  },
  {
   "cell_type": "markdown",
   "metadata": {
    "slideshow": {
     "slide_type": "slide"
    }
   },
   "source": [
    "## Step 0: be organized!\n",
    "\n",
    "We will try to be organized and keep all the class exercises in separate folders. Create a new jupyter notebook in the directory `~/00-FirstComputation`,  create a new jupyter notebook and rename it `00-FirstComputation`.\n",
    "\n",
    "<img src=\"./folder.png\" alt=\"h2 molecule\" width=\"600\"/>"
   ]
  },
  {
   "cell_type": "markdown",
   "metadata": {
    "slideshow": {
     "slide_type": "slide"
    }
   },
   "source": [
    "## Import psi4\n",
    "The first step in running psi4 is to call the python `import` command. This will load all the functions of psi4 into python and make them available for us to call. Remember to type `shift` + `enter` to execute the code in a jupyter cell"
   ]
  },
  {
   "cell_type": "code",
   "execution_count": null,
   "metadata": {
    "slideshow": {
     "slide_type": "-"
    }
   },
   "outputs": [],
   "source": [
    "import psi4"
   ]
  },
  {
   "cell_type": "markdown",
   "metadata": {
    "slideshow": {
     "slide_type": "slide"
    }
   },
   "source": [
    "## Specify the molecular geometry\n",
    "Next, we will specify the geometry of an H$_2$ molecule with a H-H bond distance of 0.7 Å.\n",
    "This image illustrates how the atoms are arranged in space:\n",
    "\n",
    "<img src=\"./xyz.svg\" alt=\"h2 molecule\" width=\"200\"/>"
   ]
  },
  {
   "cell_type": "markdown",
   "metadata": {
    "slideshow": {
     "slide_type": "slide"
    }
   },
   "source": [
    "We use the xyz format, where the type/position of each atom is specified in the following way\n",
    "```\n",
    "atomic_symbol      x   y   z\n",
    "```\n",
    "where `x,y,z` are the Cartesian coordinates of the atom (in units of Å).\n",
    "We create a molecule object with the `psi4.geometry` command:"
   ]
  },
  {
   "cell_type": "code",
   "execution_count": null,
   "metadata": {
    "slideshow": {
     "slide_type": "-"
    }
   },
   "outputs": [],
   "source": [
    "# here we use the three double quotes \"\"\" to indicate a block of text\n",
    "mol = psi4.geometry(\n",
    "\"\"\"\n",
    "H  0.0  0.0  0.0\n",
    "H  0.0  0.0  0.7\n",
    "\"\"\")\n",
    "\n",
    "# print the output of the computations that follow in the file 'output.h2.txt'\n",
    "psi4.core.set_output_file('output.h2.txt', False)"
   ]
  },
  {
   "cell_type": "markdown",
   "metadata": {
    "slideshow": {
     "slide_type": "slide"
    }
   },
   "source": [
    "## Compute the energy\n",
    "\n",
    "We can now solve the Schrödinger equation (approximately)!"
   ]
  },
  {
   "cell_type": "code",
   "execution_count": null,
   "metadata": {},
   "outputs": [],
   "source": [
    "psi4.energy('scf/cc-pvdz')"
   ]
  },
  {
   "cell_type": "markdown",
   "metadata": {},
   "source": [
    "Your energy should be equal to `-1.1269257993199844` (atomic units)"
   ]
  },
  {
   "cell_type": "markdown",
   "metadata": {
    "slideshow": {
     "slide_type": "slide"
    }
   },
   "source": [
    "## Geometry optimization\n",
    "\n",
    "We can even go one step further and find the equilibrium molecular geometry"
   ]
  },
  {
   "cell_type": "code",
   "execution_count": null,
   "metadata": {},
   "outputs": [],
   "source": [
    "psi4.optimize('scf/cc-pvdz', molecule=mol)"
   ]
  },
  {
   "cell_type": "markdown",
   "metadata": {
    "slideshow": {
     "slide_type": "slide"
    }
   },
   "source": [
    "## Analyze the optimized geometry\n",
    "\n",
    "We can now look at the optimized geometry. To do this we print the content of the file `output.h2.txt` and scroll to the very end where you can find the Cartesian coordinates of the molecule."
   ]
  },
  {
   "cell_type": "code",
   "execution_count": null,
   "metadata": {},
   "outputs": [],
   "source": [
    "!cat output.h2.txt"
   ]
  },
  {
   "cell_type": "markdown",
   "metadata": {
    "slideshow": {
     "slide_type": "slide"
    }
   },
   "source": [
    "## Next steps\n",
    "1. Go back to the second box in you jupyter notebook and modify the geometry so that the H-H bond length is 1.0 Å. Reoptimize the geometry and verify that the final answer does not change.\n",
    "1. Change the H$_2$ molecule to lithium hydride. Compute the energy of LiH at a bond distance of 1 Å. Then optimize the geometry and compare it to that of H$_2$.\n",
    "1. Try to optimize the structure of He$_2$. What is the optimized bond length?"
   ]
  }
 ],
 "metadata": {
  "celltoolbar": "Slideshow",
  "kernelspec": {
   "display_name": "Python 3",
   "language": "python",
   "name": "python3"
  },
  "language_info": {
   "codemirror_mode": {
    "name": "ipython",
    "version": 3
   },
   "file_extension": ".py",
   "mimetype": "text/x-python",
   "name": "python",
   "nbconvert_exporter": "python",
   "pygments_lexer": "ipython3",
   "version": "3.7.6"
  }
 },
 "nbformat": 4,
 "nbformat_minor": 4
}
