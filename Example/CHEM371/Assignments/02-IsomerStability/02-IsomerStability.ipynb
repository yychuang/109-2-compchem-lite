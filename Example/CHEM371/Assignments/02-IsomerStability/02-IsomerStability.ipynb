{
 "cells": [
  {
   "cell_type": "markdown",
   "metadata": {},
   "source": [
    "# CHEM371-LW —  Computational Assignment 02 | Isomer Stability\n",
    "---\n",
    "\n",
    "An important application of quantum chemistry is to study the energy difference between isomers of a given molecular formula. This information can then be used to estimate the distribution of isomers at a given temperature via the Boltzmann distribution, which tells us that the relative population of two isomers A and B at temperature T is given by\n",
    "$$\n",
    "\\frac{P_A}{P_B} = e^{\\frac{- (E_A - E_B)}{k_B T}},\n",
    "$$\n",
    "where $k_B$ is the Boltzmann's constant. Note that this equation depends only on the energy difference $E_A - E_B$. This is one of the reason why in reporting the results of quantum chemistry computations, the most informative energies to report are differences and not absolute energies (absolute energies should still be reported to verify that your results are correct).\n",
    "\n",
    "In this problem set you will:\n",
    "- refine your molecule-building skills\n",
    "- apply density functional theory to explore different conformational/configurational isomers of a molecule.\n",
    "\n",
    "Recall that:\n",
    "- **conformational isomers**  are isomers that can be interconverted just by rotations about formally single bonds (this of rotations along a single bong in ethane).\n",
    "- **configurational isomers** are stereoisomers that can cannot be converted into one another by rotation around a single bond (you need to break a bond to convert one isomer into another). \n"
   ]
  },
  {
   "cell_type": "markdown",
   "metadata": {},
   "source": [
    "## Problem 1: The conformational isomers of hydrogen peroxide\n",
    "\n",
    "In class we have seen how to construct a Z-matrix for hydrogen peroxide (HOOH). For example, the following Z-matrix corresponds to a structure with a 30° H-O-O-H dihedral angle \n",
    "\n",
    "```\n",
    "h2o2_zmat = psi4.geometry(\"\"\"\n",
    "0 1\n",
    "O\n",
    "O 1 1.4\n",
    "H 2 1.0 1 120.0\n",
    "H 1 1.0 2 120.0 3 30.0\n",
    "\"\"\")\n",
    "```\n",
    "\n",
    "Use psi4 to find all the possible stable conformers and transition states of HOOC at the `'b3lyp/def2-TZVP'` level of theory.\n",
    "- Generate several guesses by changing the dihedral angle and optimize them with DFT.\n",
    "- Identify the unique optimized structures. Since two guess geometries may lead to the same optimized structure, compare the energies of all isomers, and if they differ only by a very small amount (say less than 0.001 hartree), compare the molecular structure (bond lengths and angles) to verify if they correspond to the same geometry.  \n",
    "- Report the energy difference between each optimized geometry and the lowest-lying conformer, in kcal/mol."
   ]
  },
  {
   "cell_type": "markdown",
   "metadata": {},
   "source": [
    "## Problem 2: Conformers and configurational isomers of CH<sub>2</sub>O\n",
    "\n",
    "Optimize as many isomers (both conformers and **configurational isomers**) as you can find with the formula CH<sub>2</sub>O at the `'b3lyp/def2-TZVP'` level of theory."
   ]
  },
  {
   "cell_type": "markdown",
   "metadata": {},
   "source": [
    "## Problem 3: Stability of axially and equatorially substituted  cyclohexanes\n",
    "\n",
    "A common level of theory in application of computational chemistry to organic chemistry is a combination of the B3LYP density functional with the Pople 6-31G(d) basis set: 'b3lyp/6-31G(d)'. In this problem you will apply this level of theory to study the relative stability of several substituted cyclohexanes.\n",
    "\n",
    "- Guess the ordering of the relative energy of the axial conformation relative to the equitorial chair conformation  of methylcyclohexane, isopropylcyclohexane, *t*-butylcyclohexane, fluorocyclohexane, and chlorocyclohexane.\n",
    "- For each molecule, optimize the structures of both axial and equatorial chair conformations at the `'b3lyp/6-31G(d)'` level of theory.\n",
    "Calculate the energy difference between the axial and equitorial conformations for each molecule, expressing your results in kcal/mol. \n",
    "Report your results in a table with the following format\n",
    "\n",
    "| Molecule   | E\\(axial\\) \\(hartree\\) | E\\(equatorial\\) \\(hartree\\) | E\\(axial\\) \\- E\\(equatorial\\) \\(kcal/mol\\) |\n",
    "|------------|------------------------|-----------------------------|--------------------------------------------|\n",
    "| Molecule 1 | \\.\\.\\.                 | \\.\\.\\.                      | \\.\\.\\.                                     |\n",
    "|            |                        |                             |                                            |\n",
    "|            |                        |                             |                                            |\n",
    "\n",
    "<img src=\"./cyclohexane.png\" alt=\"h2 molecule\" width=\"300\"/>\n",
    "\n",
    "**Tip**: A good way to start this project is to build the cyclohexane molecule first  in its chair conformation. After optimizing the geometry, copy the XYZ geometry from the output of this computation and open it in Avogadro and modify/add atoms to build the substituted cyclohexanes. **Do not use the Z-matrix format to build these molecules.**"
   ]
  }
 ],
 "metadata": {
  "kernelspec": {
   "display_name": "Python 3",
   "language": "python",
   "name": "python3"
  },
  "language_info": {
   "codemirror_mode": {
    "name": "ipython",
    "version": 3
   },
   "file_extension": ".py",
   "mimetype": "text/x-python",
   "name": "python",
   "nbconvert_exporter": "python",
   "pygments_lexer": "ipython3",
   "version": "3.7.6"
  }
 },
 "nbformat": 4,
 "nbformat_minor": 4
}
