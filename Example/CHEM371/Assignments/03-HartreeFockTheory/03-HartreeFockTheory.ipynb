{
 "cells": [
  {
   "cell_type": "markdown",
   "metadata": {},
   "source": [
    "# CHEM371-LW —  Computational Assignment 03 | Hartree–Fock theory\n",
    "\n",
    "---\n",
    "\n",
    "In this problem set you will:\n",
    "- apply your knowledge of Hartree–Fock theory to simple molecules\n",
    "- start to apply harmonic vibrational analysis to characterize stationary points"
   ]
  },
  {
   "cell_type": "markdown",
   "metadata": {},
   "source": [
    "## Problem 1: The electronic structure of methane according to Hatree–Fock theory\n",
    "\n",
    "Methane is the prototypical example of an organic compound in which the carbon forms four equivalent sp$^3$ hybrid C-H bonds.\n",
    "\n",
    "- Build the structure of the methane molecule and optimize it at the Hartree–Fock level of theory using the def2-TZVP basis set ('scf/def2-TZVP').\n",
    "\n",
    "- Using the orbital energies from Hartree–Fock theory, build a molecular orbital diagram. A molecular orbital diagram is just a plot of the orbital energies in which the y axis indicates the energy. You do not need to draw the diagram on scale. Indicate occupied orbitals with a line and two arrows, while empty orbitals just with a line. Label each orbital with its corresponding energy (in hartree). If two or more orbitals are degenerate, shows them as separate lines with the same y value. **It is enough if you show only the 9 lowest energy orbitals**.\n",
    "\n",
    "- Use the psi4.cubeprop command to generate cube files for occupied orbitals 2-5. Then plot them with the fortecubeview module. Take a snapshot of your orbitals and paste them into your answer.\n",
    "\n",
    "- Use Koopman's theorem predict the ionization potential for all the orbitals of methane (in eV). Compare your values to the experimental values reported by NIST (https://physics.nist.gov/cgi-bin/Ionization/table.pl?ionization=CH4). Is the ordering of the IPs consistent between theory and experiment?\n",
    "\n",
    "- Use Koopman's theorem predict if the anion CH$_4^{-}$ is stable. Explain how you arrived at your answer."
   ]
  },
  {
   "cell_type": "markdown",
   "metadata": {},
   "source": [
    "## Problem 2: Characterization of the conformational isomers of HOOF with a vibrational analysis\n",
    "\n",
    "In the previous assignement you computed the structure of the conformational isomers of HOOH. In this problem you will repeat the same study for the molecule HOOF and use frequency computations to determined if a given conformer is a minimum or a transition state.\n",
    "\n",
    "The following python function will prepare a HOOF geometry with a H-O-O-F dihedral angle of `d` degrees:\n",
    "```python\n",
    "def geometry(d):\n",
    "    \"\"\"This function returns the geometry of HOOF with a H-O-O-F dihedral angle of `d` degrees\"\"\"\n",
    "    return psi4.geometry(f\"\"\"\n",
    "    0 1\n",
    "    O\n",
    "    O 1 1.4\n",
    "    H 2 1.0 1 100.0\n",
    "    F 1 1.4 2 100.0 3 D\n",
    "    D = {d:f}\n",
    "    \"\"\")\n",
    "```\n",
    "(*this function uses formatted python strings to generate a geometry with a user-specified value of D*)\n",
    "\n",
    "- Use the `geometry` function to prepare inputs for psi4 using the following values of `d`:\n",
    "```\n",
    "0.0, 60.0, 120.0, 180.0\n",
    "```\n",
    "\n",
    "- Optimize the geometry of all the candidate molecules at the `'b3lyp/def2-SVP'` level of theory. For each molecule perform a frequency computation and determine if it is a minimum or transition state.\n",
    "\n",
    "- Make a 3D figure of the most stable structure for HOOF and lowest energy transition state."
   ]
  }
 ],
 "metadata": {
  "kernelspec": {
   "display_name": "Python 3",
   "language": "python",
   "name": "python3"
  },
  "language_info": {
   "codemirror_mode": {
    "name": "ipython",
    "version": 3
   },
   "file_extension": ".py",
   "mimetype": "text/x-python",
   "name": "python",
   "nbconvert_exporter": "python",
   "pygments_lexer": "ipython3",
   "version": "3.7.6"
  }
 },
 "nbformat": 4,
 "nbformat_minor": 4
}
