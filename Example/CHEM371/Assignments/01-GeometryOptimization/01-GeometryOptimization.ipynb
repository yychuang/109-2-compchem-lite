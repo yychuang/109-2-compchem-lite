{
 "cells": [
  {
   "cell_type": "markdown",
   "metadata": {
    "nbgrader": {
     "grade": false,
     "grade_id": "cell-eeb5a6a9b59ed8c9",
     "locked": true,
     "schema_version": 3,
     "solution": false,
     "task": false
    }
   },
   "source": [
    "# CHEM371-LW —  Computational Assignment 01 | Geometry Optimization"
   ]
  },
  {
   "cell_type": "markdown",
   "metadata": {
    "nbgrader": {
     "grade": false,
     "grade_id": "cell-0a9d9dab9e9fed45",
     "locked": true,
     "schema_version": 3,
     "solution": false,
     "task": false
    }
   },
   "source": [
    "---\n",
    "# Problem 1: The inversion barrier of ammonia\n",
    "\n",
    "Ammonia has a trigonal pyramidal geometry with H-N-H angles of about 107°. Ammonia can undergo a pyramidal inversion process in which the molecule \"turns inside out\" like an umbrella (see the following image from Wikipedia)\n",
    "\n",
    "<img src=\"./nitrogen-inversion.png\" alt=\"nh3 molecule\" width=\"200\"/>\n",
    "\n",
    "The two equivalent pyramidal geometries are separated by a planar transition state in which all atoms lie in one plane.\n",
    "\n",
    "The goal of this problem is to determine the optimized geometry and energies of the pyramidal geometry (minimum) and the planar transition states.\n",
    "\n",
    "- **You should return a fully executable jupyter notebook**.  So do not copy and paste results from different notebooks.\n",
    "- For each part of the problem, fill the jupyter cell below the questions with all the commands to perform a computation, grab the energy, or display the molecular geometry."
   ]
  },
  {
   "cell_type": "code",
   "execution_count": null,
   "metadata": {},
   "outputs": [],
   "source": [
    "import psi4"
   ]
  },
  {
   "cell_type": "markdown",
   "metadata": {},
   "source": [
    "## a) Optimization of the pyramidal geometry\n",
    "\n",
    "- Following the figure below, build a Z-matrix for ammonia. As a guess, use a NH bond distance of 1 Å and $\\theta_{\\rm HNX}$ = 110°. In this problem we will use density functional theory (DFT) together with a split-valence basis set (def2-SVP). To perform your computations with this level of theory/basis set use the following command:\n",
    "```\n",
    "energy_pyr = psi4.optimize('b3lyp/def2-TZVP', molecule=mol)\n",
    "```\n",
    "Here we store the energy of the optimized geometry in the variable `energy_pyr` so we can use it later.\n",
    "\n",
    "- Print out the total energy in Hartree\n",
    "\n",
    "**Tip**: I recommend that at first you build your Z-matrix one atom at a time, and that you check the geometry with Avogadro, VMD, fortecubeview, or any other software that can visualize molecular structures. Rotate the molecule to make sure that it has a correct pyramidal shape.\n",
    "\n",
    "<img src=\"./nh3_zmat.png\" alt=\"nh3 molecule\" width=\"200\"/>"
   ]
  },
  {
   "cell_type": "code",
   "execution_count": null,
   "metadata": {
    "nbgrader": {
     "grade": true,
     "grade_id": "cell-88ff25a2961422a8",
     "locked": false,
     "points": 10,
     "schema_version": 3,
     "solution": true,
     "task": false
    }
   },
   "outputs": [],
   "source": [
    "# uncomment the following code and write the input for the Z-matrix\n",
    "# mol = psi4.geometry(...)\n",
    "# energy_pyr = psi4.optimize('b3lyp/def2-TZVP', molecule=mol)"
   ]
  },
  {
   "cell_type": "markdown",
   "metadata": {
    "nbgrader": {
     "grade": false,
     "grade_id": "cell-09d663d9e17c904a",
     "locked": true,
     "schema_version": 3,
     "solution": false,
     "task": false
    }
   },
   "source": [
    "## b) Optimization of the transition state\n",
    "Find the transition state of ammonia using the same level of theory described above. \n",
    "\n",
    "- To find the inversion transition state, set the angle $\\theta_{\\rm HNX}$ to 90°.\n",
    "This will put all the atoms on the plane and as the optimization proceeds you should reach a final geometry that is planar (verify this at the end of your computation).\n",
    "\n",
    "- Print out the total energy in Hartree\n"
   ]
  },
  {
   "cell_type": "code",
   "execution_count": null,
   "metadata": {},
   "outputs": [],
   "source": []
  },
  {
   "cell_type": "markdown",
   "metadata": {},
   "source": [
    "## c) Transition barrier\n",
    "Compute the energy basrrier for ammonia pyramidalization and report your answer in kcal/mol."
   ]
  },
  {
   "cell_type": "code",
   "execution_count": null,
   "metadata": {},
   "outputs": [],
   "source": [
    "# you can use this code to print the energy with two decimals\n",
    "# energy_barrier = \n",
    "# print(f'Energy barrier = {energy_barrier:.2f} kcal/mol')"
   ]
  },
  {
   "cell_type": "markdown",
   "metadata": {},
   "source": [
    "## d) Comparison with PH<sub>3</sub>\n",
    "\n",
    "Phosphines are organophosporous compounds in which three groups are bonded to a P center (R<sub>3</sub>P:). If the three groups are different one can have chiral phosphines (e.g. R/S enantiomers).\n",
    "As you might expect, this is due to the fact that phospines have a high inversion barrier.\n",
    "One way to understant this aspect of the chemistry of phosphines is to compare the inversion barrier of PH<sub>3</sub> and NH<sub>3</sub>.\n",
    "\n",
    "- Repeat your computations for the inversion barrier on the PH<sub>3</sub> molecule using the same level of theory\n",
    "\n",
    "- Compare the inversion barrier of PH<sub>3</sub> and NH<sub>3</sub> (in kcal/mol). Why one can have chiral phosphines but not chiral amines? \n",
    "\n",
    "**Tip**: Make sure that you change the name of the variables that you use. For example, if you called the transition state energy of NH<sub>3</sub> `energy_ts`, use something like `energy_ph3_ts` for PH<sub>3</sub>."
   ]
  },
  {
   "cell_type": "code",
   "execution_count": null,
   "metadata": {},
   "outputs": [],
   "source": []
  },
  {
   "cell_type": "markdown",
   "metadata": {},
   "source": [
    "If you happen to run into this issue \n",
    "```\n",
    "RuntimeError: \n",
    "Fatal Error: Timer HF: Form G is already on.\n",
    "Error occurred in file: /Users/fevange/Source/psi4/psi4/src/psi4/libqt/timer.cc on line: 280\n",
    "The most recent 5 function calls were:\n",
    "```\n",
    "just restart the Kernel (Menu > Kernel > Restart)"
   ]
  },
  {
   "cell_type": "markdown",
   "metadata": {},
   "source": [
    "---\n",
    "# Problem 2: Stability of the isomers of difluoroethylene\n",
    "\n",
    "Shown below are three isomers of difluoroethylene.\n",
    "\n",
    "<img src=\"./difluoroethylene.png\" alt=\"nh3 molecule\" width=\"400\"/>\n",
    "\n",
    "The goal of this problem is to use density functional theory to determine the relative stability of these three species.\n",
    "**Use the same level of theory that you used in Problem 1** (`'b3lyp/def2-TZVP'`)"
   ]
  },
  {
   "cell_type": "markdown",
   "metadata": {},
   "source": [
    "## a) Formulating an hypothesis\n",
    "\n",
    "Predict the relative stability (which isomer is most stable, which one the least, why?) of these three isomers using any criterion you think may be important (electrostatics, steric effects, delocalization, aromaticity, etc.). Explain how you derived your ordering.\n",
    "\n",
    "**It's important that you work on this part before you do the computations! Otherwise there would be not point in doing this part of the exercise.**  You don't need to be right, but you do need to make a sound argument."
   ]
  },
  {
   "cell_type": "code",
   "execution_count": null,
   "metadata": {},
   "outputs": [],
   "source": []
  },
  {
   "cell_type": "markdown",
   "metadata": {
    "slideshow": {
     "slide_type": "slide"
    }
   },
   "source": [
    "## b) Optimize the geometry\n",
    "Optimize the geometry of the three isomers of difluoroethylene. Make your structures using Avogadro (version 1) or with a Z-matrix. Note that these computations might take a couple of minutes each to run."
   ]
  },
  {
   "cell_type": "code",
   "execution_count": null,
   "metadata": {},
   "outputs": [],
   "source": []
  },
  {
   "cell_type": "markdown",
   "metadata": {},
   "source": [
    "## c) Compute the relative ordering of the isomers\n",
    "Using the energy of the optimized geometries, compute the energy of each isomer with respect to the most stable one. Report your results in units of kcal/mol."
   ]
  }
 ],
 "metadata": {
  "kernelspec": {
   "display_name": "Python 3",
   "language": "python",
   "name": "python3"
  },
  "language_info": {
   "codemirror_mode": {
    "name": "ipython",
    "version": 3
   },
   "file_extension": ".py",
   "mimetype": "text/x-python",
   "name": "python",
   "nbconvert_exporter": "python",
   "pygments_lexer": "ipython3",
   "version": "3.7.6"
  }
 },
 "nbformat": 4,
 "nbformat_minor": 4
}
