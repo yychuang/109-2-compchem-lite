{
 "cells": [
  {
   "cell_type": "markdown",
   "metadata": {},
   "source": [
    "# Tutorial 11: Intermolecular interaction energies (SAPT) and solvation effects (PCM)\n",
    "\n",
    "In this tutorial you will explore:\n",
    "- how to compute molecular interation energies with the SAPT0 method\n",
    "- how. to account for solvation effects via the polarizable continuum model (PCM)"
   ]
  },
  {
   "cell_type": "code",
   "execution_count": null,
   "metadata": {},
   "outputs": [],
   "source": [
    "import psi4"
   ]
  },
  {
   "cell_type": "markdown",
   "metadata": {},
   "source": [
    "## 1. Analysis of the intermolecular interaction in the HF dimer with SAPT0\n",
    "\n",
    "In this first example, we will consider the interaction energy of the HF dimer. To compute the interaction energy, we optimize the geometry of the dimer with DFT and then do a SAPT0 computation.\n",
    "\n",
    "### Geometry optimization\n",
    "For weakly bound dimers like (HF)$_2$ it is important to optimize the geometry using both Cartesian and internal coordinates, and to compute the full hessian at the beginning to speed up the convergence of the geometry optimization.\n",
    "\n",
    "The optimization was performed with the following input\n",
    "\n",
    "```python\n",
    "hf_dimer = psi4.geometry(\n",
    "\"\"\"\n",
    "0 1\n",
    "F       -1.3976919319      0.1218846771      0.0000000000                 \n",
    "H       -0.8539861467     -0.7000656533      0.0000000000                 \n",
    "F       -0.3234710479     -2.9923356673      0.6218021310                 \n",
    "H       -0.2279209870     -3.9731967777      0.6218021310                 \n",
    "\n",
    " units angstrom\n",
    " no_reorient\n",
    " symmetry c1\n",
    "\"\"\"\n",
    ")\n",
    "\n",
    "psi4.set_output_file('hf_dimer_opt.txt', False)\n",
    "psi4.set_options({'OPT_COORDINATES' : 'BOTH', 'FULL_HESS_EVERY' : 0})\n",
    "psi4.optimize('b3lyp/aug-cc-pvdz')\n",
    "```\n",
    "and it yielded the following optimized geometry\n",
    "\n",
    "```python\n",
    "F                    -0.597917227851     1.185245761736    -0.435087735701\n",
    "H                    -0.132328360109     0.460602356132    -0.075129151973\n",
    "F                     0.592935186451    -1.111803010103     0.438932749487\n",
    "H                     0.226244295964    -1.845063904792     0.002647203482\n",
    "```"
   ]
  },
  {
   "cell_type": "markdown",
   "metadata": {},
   "source": [
    "### SAPT0 Computation\n",
    "We can now assemble the input for the SAPT0 computation. To run SAPT, we need to specify the geometries of the two interacting molecules.  In Psi4, you can use the `--` separator to tell psi4 which atoms belong to the first and second molecule in the `psi4.geometry` function. For each fragment you can also specify the charge and the multiplicity. Note that SAPT does not use spatial symmetry (so it is a good idea to specify `symmetry c1` in the input) and **needs the geometry of the system to remain fixed throughout monomer and dimer calculations** (by adding the `no_reorient` keyword at the end of the input)."
   ]
  },
  {
   "cell_type": "code",
   "execution_count": null,
   "metadata": {},
   "outputs": [],
   "source": [
    "# we take the optimized geometry and use the -- separator to tell Psi4 that\n",
    "# the first two atoms belong to molecule A and the last two to molecule B\n",
    "hf_dimer = psi4.geometry(\n",
    "\"\"\"\n",
    "0 1\n",
    "F                    -0.597917227851     1.185245761736    -0.435087735701\n",
    "H                    -0.132328360109     0.460602356132    -0.075129151973\n",
    "--\n",
    "0 1\n",
    "F                     0.592935186451    -1.111803010103     0.438932749487\n",
    "H                     0.226244295964    -1.845063904792     0.002647203482              \n",
    " no_reorient\n",
    " symmetry c1\n",
    "\"\"\"\n",
    ")\n",
    "\n",
    "# If you have fortecubeview installed, you can visualize the geometry using the following two lines\n",
    "# import fortecubeview\n",
    "# fortecubeview.geom(molecule=hf_dimer)"
   ]
  },
  {
   "cell_type": "markdown",
   "metadata": {},
   "source": [
    "Next we can run a SAPT0 computation. The input follows the standard format `psi4.energy('sapt0/<basis set>')` where `<basis set>` is the label of the basis set (e.g., def2-SVP). This function returns the total SAPT0 **interaction energy** in units of Hartree. A negative number indicates that the complex of the two molecules is more stable than the individual separated molecules."
   ]
  },
  {
   "cell_type": "code",
   "execution_count": null,
   "metadata": {},
   "outputs": [],
   "source": [
    "psi4.set_output_file('hf_dimer_sapt0.txt', False)\n",
    "psi4.energy('sapt0/aug-cc-pvdz')"
   ]
  },
  {
   "cell_type": "markdown",
   "metadata": {},
   "source": [
    "To see the energy broken down into all of its component you can open the output file or print the content in a cell with the command:\n",
    "```\n",
    "!cat hf_dimer_sapt0.txt\n",
    "```\n",
    "Psi4 prints a table in the output file that shows all the contributions to the SAPT0 energy:\n",
    "\n",
    "To understand the meaning of all of these corrections, I recommend that you take a look at the \"Psi4 SAPT manual page (http://www.psicode.org/psi4manual/master/sapt.html) \n",
    "\n",
    "```\n",
    "    SAPT Results \n",
    "  --------------------------------------------------------------------------------------------------------\n",
    "    Electrostatics                -11.30028263 [mEh]      -7.09103440 [kcal/mol]     -29.66888795 [kJ/mol]\n",
    "      Elst10,r                    -11.30028263 [mEh]      -7.09103440 [kcal/mol]     -29.66888795 [kJ/mol]\n",
    "\n",
    "    Exchange                        8.93916328 [mEh]       5.60940964 [kcal/mol]      23.46976995 [kJ/mol]\n",
    "      Exch10                        8.93916328 [mEh]       5.60940964 [kcal/mol]      23.46976995 [kJ/mol]\n",
    "      Exch10(S^2)                   8.89619835 [mEh]       5.58244875 [kcal/mol]      23.35696556 [kJ/mol]\n",
    "\n",
    "    Induction                      -3.71576506 [mEh]      -2.33167778 [kcal/mol]      -9.75573983 [kJ/mol]\n",
    "      Ind20,r                      -4.57578012 [mEh]      -2.87134537 [kcal/mol]     -12.01370904 [kJ/mol]\n",
    "      Exch-Ind20,r                  2.13148785 [mEh]       1.33752882 [kcal/mol]       5.59622058 [kJ/mol]\n",
    "      delta HF,r (2)               -1.27147280 [mEh]      -0.79786123 [kcal/mol]      -3.33825137 [kJ/mol]\n",
    "\n",
    "    Dispersion                     -2.10841994 [mEh]      -1.32305349 [kcal/mol]      -5.53565579 [kJ/mol]\n",
    "      Disp20                       -2.49992880 [mEh]      -1.56872901 [kcal/mol]      -6.56356216 [kJ/mol]\n",
    "      Exch-Disp20                   0.39150886 [mEh]       0.24567552 [kcal/mol]       1.02790637 [kJ/mol]\n",
    "      Disp20 (SS)                  -1.24996440 [mEh]      -0.78436450 [kcal/mol]      -3.28178108 [kJ/mol]\n",
    "      Disp20 (OS)                  -1.24996440 [mEh]      -0.78436450 [kcal/mol]      -3.28178108 [kJ/mol]\n",
    "      Exch-Disp20 (SS)              0.23971773 [mEh]       0.15042515 [kcal/mol]       0.62937881 [kJ/mol]\n",
    "      Exch-Disp20 (OS)              0.15179113 [mEh]       0.09525037 [kcal/mol]       0.39852756 [kJ/mol]\n",
    "\n",
    "  Total HF                         -6.07688441 [mEh]      -3.81330254 [kcal/mol]     -15.95485783 [kJ/mol]\n",
    "  Total SAPT0                      -8.18530435 [mEh]      -5.13635603 [kcal/mol]     -21.49051362 [kJ/mol]\n",
    "\n",
    "  Special recipe for scaled SAPT0 (see Manual):\n",
    "    Electrostatics sSAPT0         -11.30028263 [mEh]      -7.09103440 [kcal/mol]     -29.66888795 [kJ/mol]\n",
    "    Exchange sSAPT0                 8.93916328 [mEh]       5.60940964 [kcal/mol]      23.46976995 [kJ/mol]\n",
    "    Induction sSAPT0               -3.68473308 [mEh]      -2.31220492 [kcal/mol]      -9.67426537 [kJ/mol]\n",
    "    Dispersion sSAPT0              -2.10272003 [mEh]      -1.31947674 [kcal/mol]      -5.52069067 [kJ/mol]\n",
    "  Total sSAPT0                     -8.14857246 [mEh]      -5.11330642 [kcal/mol]     -21.39407405 [kJ/mol]\n",
    "  --------------------------------------------------------------------------------------------------------\n",
    "```"
   ]
  },
  {
   "cell_type": "markdown",
   "metadata": {},
   "source": [
    "## 2. Modeling the solvation energy of ethanol in water\n",
    "\n",
    "In this example, we are going to use the PCM model to evaluate the electrostatic contributions to the solvation energy of ethanol. We use a geometry optimized at the B3LYP/def2-SVP level of theory in the absence of water molecules (gas phase).\n",
    "\n",
    "First, we compute the energy of ethanol in the gas phase. Note that we added the strings\n",
    "```\n",
    "no_reorient\n",
    "no_com\n",
    "symmetry c1\n",
    "```\n",
    "These prevent Psi4 from reorienting the geometry, shifting it to the center of mass, and enforce the use of no symmetry. In this case these keywords do not make any difference, but it is good practice to keep them here so thatn when we switch on PCM everything will be consistent."
   ]
  },
  {
   "cell_type": "code",
   "execution_count": null,
   "metadata": {},
   "outputs": [],
   "source": [
    "ethanol_geom = psi4.geometry(\"\"\"\n",
    "    C           -0.333009979899    -0.423615357612    -0.184200903142\n",
    "    C            1.179153362301    -0.414706417524    -0.313836658083\n",
    "    H           -0.651311352848    -1.316907925328     0.393604041781\n",
    "    H           -0.791894825341    -0.517368555358    -1.191066531406\n",
    "    O           -0.732927481926     0.773239648281     0.455152339143\n",
    "    H            1.537340993654    -1.331700551471    -0.808276264206\n",
    "    H            1.649040960998    -0.346302943607     0.679936874753\n",
    "    H            1.508378518884     0.453776056275    -0.905787283729\n",
    "    H           -1.694347581166     0.768383333798     0.538039164456\n",
    "no_reorient\n",
    "no_com\n",
    "symmetry c1\n",
    "\"\"\")\n",
    "\n",
    "psi4.set_output_file('ethanol_gas.txt', False)\n",
    "ethanol_gas = psi4.energy('b3lyp/def2-SVP')\n",
    "print(f'Energy of ethanol in the gas phase: {ethanol_gas}')"
   ]
  },
  {
   "cell_type": "markdown",
   "metadata": {
    "slideshow": {
     "slide_type": "slide"
    }
   },
   "source": [
    "In the next step we setup a PCM computation. The most important option here is the `Solvent` keyword, which is set to `Water`. Other options are:\n",
    "\n",
    "```\n",
    "Water , H2O;\n",
    "Propylene Carbonate , C4H6O3;\n",
    "Dimethylsulfoxide , DMSO;\n",
    "Nitromethane , CH3NO2;\n",
    "Acetonitrile , CH3CN;\n",
    "Methanol , CH3OH;\n",
    "Ethanol , CH3CH2OH;\n",
    "Acetone , C2H6CO;\n",
    "1,2-Dichloroethane , C2H4CL2;\n",
    "Methylenechloride , CH2CL2;\n",
    "Tetrahydrofurane , THF;\n",
    "Aniline , C6H5NH2;\n",
    "Chlorobenzene , C6H5CL;\n",
    "Chloroform , CHCL3;\n",
    "Toluene , C6H5CH3;\n",
    "1,4-Dioxane , C4H8O2;\n",
    "Benzene , C6H6;\n",
    "Carbon Tetrachloride , CCL4;\n",
    "Cyclohexane , C6H12;\n",
    "N-heptane , C7H16;\n",
    "```\n",
    "\n",
    "The other options just repeat default values in the PCM module and you should not tweak them. To pass the PCM options you can call the function `psi4.pcm_helper(pcm_string)` passing the `pcm_string` that we define on top.\n",
    "\n",
    "Please consult the PCM manual page (https://pcmsolver.readthedocs.io/en/latest/users/input.html#medium-section-keywords) for more information on how to run PCM computations."
   ]
  },
  {
   "cell_type": "code",
   "execution_count": null,
   "metadata": {},
   "outputs": [],
   "source": [
    "pcm_string = \"\"\"\n",
    "    Units = Angstrom\n",
    "    Medium {\n",
    "        SolverType = IEFPCM\n",
    "        Solvent = Water\n",
    "    }\n",
    "    Cavity {\n",
    "       RadiiSet = UFF\n",
    "       Type = GePol\n",
    "       Scaling = False\n",
    "       Area = 0.3\n",
    "       Mode = Implicit\n",
    "    }\n",
    "\"\"\"\n",
    "\n",
    "# set the PCM options\n",
    "psi4.pcm_helper(pcm_string)\n",
    "\n",
    "# tell Psi4 to run a PCM computation\n",
    "psi4.set_options({'pcm': True, 'pcm_scf_type': 'total'})\n",
    "\n",
    "psi4.set_output_file('ethanol_aq.txt', False)\n",
    "ethanol_aq = psi4.energy('b3lyp/def2-SVP')\n",
    "\n",
    "print(f'Energy of ethanol in water (PCM):   {ethanol_aq}')\n",
    "print(f'Solvation energy: {627.51 * (ethanol_aq - ethanol_gas):.2f} kcal/mol')"
   ]
  },
  {
   "cell_type": "markdown",
   "metadata": {},
   "source": [
    "This computation yields a solvation energy for ethanol of -3.75 kcal/mol. This energy contribution only include the electrostatic effects and neglects exchange and dispersion corrections due to the solvent."
   ]
  }
 ],
 "metadata": {
  "kernelspec": {
   "display_name": "Python 3",
   "language": "python",
   "name": "python3"
  },
  "language_info": {
   "codemirror_mode": {
    "name": "ipython",
    "version": 3
   },
   "file_extension": ".py",
   "mimetype": "text/x-python",
   "name": "python",
   "nbconvert_exporter": "python",
   "pygments_lexer": "ipython3",
   "version": "3.7.6"
  }
 },
 "nbformat": 4,
 "nbformat_minor": 4
}
