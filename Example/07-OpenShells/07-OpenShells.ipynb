{
 "cells": [
  {
   "cell_type": "markdown",
   "metadata": {},
   "source": [
    "# Tutorial 07: Open shells\n",
    "\n",
    "In this tutorial you will learn more about how psi4 handles open-shell species"
   ]
  },
  {
   "cell_type": "code",
   "execution_count": null,
   "metadata": {},
   "outputs": [],
   "source": [
    "import psi4"
   ]
  },
  {
   "cell_type": "markdown",
   "metadata": {},
   "source": [
    "When doing Hartree–Fock or DFT computations on closed-shell species (even number of electrons, all paired) psi4 automatically selectes a restricted formalism. This means that the spatial part of alpha and beta orbitals is the same\n",
    "$$\n",
    "\\phi_{i\\alpha}(\\mathbf{r}) = \\phi_{i\\beta}(\\mathbf{r})\n",
    "$$\n",
    "This implies that the alpha and beta orbital energies are identical as a simple computation confirms"
   ]
  },
  {
   "cell_type": "code",
   "execution_count": 2,
   "metadata": {},
   "outputs": [],
   "source": [
    "psi4.geometry(f\"\"\"\n",
    "H\n",
    "F 1 1.0\n",
    "symmetry c1\n",
    "\"\"\")\n",
    "\n",
    "e, wfn = psi4.energy('HF/def2-SVP',return_wfn=True)"
   ]
  },
  {
   "cell_type": "code",
   "execution_count": 3,
   "metadata": {},
   "outputs": [
    {
     "name": "stdout",
     "output_type": "stream",
     "text": [
      "[-26.26971571  -1.53019894  -0.71818034  -0.62651052  -0.62651052\n",
      "   0.15830265   0.73941872   1.41561931   1.41561931   1.43621331\n",
      "   1.65591555   1.71388604   1.71388604   2.41789009   3.48489998\n",
      "   3.48489998   3.7312377    3.7312377    4.55627241]\n",
      "[-26.26971571  -1.53019894  -0.71818034  -0.62651052  -0.62651052\n",
      "   0.15830265   0.73941872   1.41561931   1.41561931   1.43621331\n",
      "   1.65591555   1.71388604   1.71388604   2.41789009   3.48489998\n",
      "   3.48489998   3.7312377    3.7312377    4.55627241]\n"
     ]
    }
   ],
   "source": [
    "print(wfn.epsilon_a().to_array()) # alpha orbital energies\n",
    "print(wfn.epsilon_b().to_array()) # beta orbital energies"
   ]
  },
  {
   "cell_type": "markdown",
   "metadata": {},
   "source": [
    "## Simple open shells\n",
    "\n",
    "Suppose that we are now interested in studying the H$_2^+$ molecule. This system has one unpaired electron, which implies that the spin of the H$_2^+$ molecule is nonzero.\n",
    "A single electron has a total spin quantum number $s = 1/2$ corresponding to the operator $\\hat{S}^2$, which means\n",
    "$$\n",
    "\\hat{S}^2 \\sigma = s(s+1) \\sigma, \\text{ where } \\sigma = \\alpha \\text{ or } \\beta\n",
    "$$\n",
    "The z component of spin (spin projected on the z axis) is the quantum number $m_s$ and it is equal to\n",
    "$$\n",
    "m_s = +\\frac{1}{2} \\text{ or } -\\frac{1}{2} \\text{ (alpha or beta)}.\n",
    "$$\n",
    "This quantum number corresponds to the operator $\\hat{S}_z$, which means\n",
    "$$\n",
    "\\hat{S}_z \\sigma = m_s \\sigma, \\text{ where } \\sigma = \\alpha \\text{ or } \\beta\n",
    "$$\n",
    "\n",
    "Since there are two possiblities for the spin of the electron, we have a **multiplicity equal to 2**. Another way to compute the multiplicity is via the equation\n",
    "$$\n",
    "\\text{multiplicity } = 2s + 1\n",
    "$$\n",
    "Let's now try to compute the Hartree–Fock energy of H$_2^+$ with psi4"
   ]
  },
  {
   "cell_type": "markdown",
   "metadata": {},
   "source": [
    "## Restricted vs. unrestricted methods\n",
    "\n",
    "There are two ways to perform computations on open shell systems like H$_2^+$ and we need to specify one.\n",
    "\n",
    "1. using a restricted formalism that enforces the condition\n",
    "$$\n",
    "\\phi_{i\\alpha}(\\mathbf{r}) = \\phi_{i\\beta}(\\mathbf{r})\n",
    "$$\n",
    "for all doubly occupied orbitals.\n",
    "1. using an unrestricted formalism in which we let alpha and beta orbitals have different spatial part\n",
    "$$\n",
    "\\phi_{i\\alpha}(\\mathbf{r}) \\neq \\phi_{i\\beta}(\\mathbf{r})\n",
    "$$\n",
    "for both doubly and singly occupied orbitals.\n",
    "\n",
    "\n",
    "Note that **for a single electron, these two approaches give the same energy**.\n",
    "\n",
    "To perform a restricted Hartree–Fock computation you neet to set the option `REFERENCE` to `ROHF`."
   ]
  },
  {
   "cell_type": "code",
   "execution_count": 8,
   "metadata": {},
   "outputs": [],
   "source": [
    "psi4.geometry(\"\"\"\n",
    "1 2\n",
    "H\n",
    "H 1 1.0\n",
    "symmetry c1\n",
    "\"\"\")\n",
    "\n",
    "psi4.set_options({'REFERENCE' : 'ROHF'})\n",
    "\n",
    "\n",
    "e, wfn = psi4.energy('HF/def2-SVP',return_wfn=True)"
   ]
  },
  {
   "cell_type": "markdown",
   "metadata": {},
   "source": [
    "Now let us check the orbital energies. In the case of ROHF these might be defined differently by different programs because there is not a unique way to define them. Psi4 yields equal energies for the alpha and beta orbitals"
   ]
  },
  {
   "cell_type": "code",
   "execution_count": 9,
   "metadata": {},
   "outputs": [
    {
     "name": "stdout",
     "output_type": "stream",
     "text": [
      "[-0.78975315 -0.21148354  0.14907738  0.3768626   0.9197362   0.9197362\n",
      "  1.26681617  1.52228616  1.52228616  2.41856805]\n",
      "[-0.78975315 -0.21148354  0.14907738  0.3768626   0.9197362   0.9197362\n",
      "  1.26681617  1.52228616  1.52228616  2.41856805]\n"
     ]
    }
   ],
   "source": [
    "print(wfn.epsilon_a().to_array()) # alpha orbital energies\n",
    "print(wfn.epsilon_b().to_array()) # beta orbital energies"
   ]
  },
  {
   "cell_type": "markdown",
   "metadata": {},
   "source": [
    "An unrestricted HF computation can be done by setting the option `REFERENCE` to `UHF`."
   ]
  },
  {
   "cell_type": "code",
   "execution_count": 10,
   "metadata": {},
   "outputs": [
    {
     "name": "stdout",
     "output_type": "stream",
     "text": [
      "[-1.12873752 -0.26617959  0.11742833  0.32905274  0.8639872   0.8639872\n",
      "  1.22168315  1.49209801  1.49209801  2.38879522]\n",
      "[-0.48162337 -0.1639748   0.20884091  0.43134234  0.9754852   0.9754852\n",
      "  1.31468928  1.5524743   1.5524743   2.44885832]\n"
     ]
    }
   ],
   "source": [
    "psi4.geometry(\"\"\"\n",
    "1 2\n",
    "H\n",
    "H 1 1.0\n",
    "symmetry c1\n",
    "\"\"\")\n",
    "\n",
    "psi4.set_options({'REFERENCE' : 'UHF'})\n",
    "\n",
    "e, wfn = psi4.energy('HF/def2-SVP',return_wfn=True)\n",
    "print(wfn.epsilon_a().to_array()) # alpha orbital energies\n",
    "print(wfn.epsilon_b().to_array()) # beta orbital energies"
   ]
  },
  {
   "cell_type": "markdown",
   "metadata": {},
   "source": [
    "Note that the energies of the alpha and beta electrons are different. In the unrestricted case the alpha and beta orbitals are different and we can see this if we plot them."
   ]
  },
  {
   "cell_type": "code",
   "execution_count": 11,
   "metadata": {},
   "outputs": [
    {
     "name": "stdout",
     "output_type": "stream",
     "text": [
      "CubeViewer: listing cube files from the directory .\n",
      "Reading 20 cube files\n"
     ]
    },
    {
     "data": {
      "application/vnd.jupyter.widget-view+json": {
       "model_id": "1525e312bf1947d885bd2a401f8db44c",
       "version_major": 2,
       "version_minor": 0
      },
      "text/plain": [
       "VBox(children=(HTML(value=''), Renderer(camera=OrthographicCamera(bottom=-5.0, children=(DirectionalLight(colo…"
      ]
     },
     "metadata": {},
     "output_type": "display_data"
    },
    {
     "data": {
      "application/vnd.jupyter.widget-view+json": {
       "model_id": "bbdc36e117e84bb9a6eeb3608062a401",
       "version_major": 2,
       "version_minor": 0
      },
      "text/plain": [
       "HTML(value='\\n        <style>\\n           .jupyter-widgets-output-area .output_scroll {\\n                heigh…"
      ]
     },
     "metadata": {},
     "output_type": "display_data"
    },
    {
     "data": {
      "application/vnd.jupyter.widget-view+json": {
       "model_id": "7e9c9e76d19647beabe2e23e3f1aa6f9",
       "version_major": 2,
       "version_minor": 0
      },
      "text/plain": [
       "interactive(children=(Select(description='Cube files:', options=('MO    1a (1-A)', 'MO    1b (1-A)', 'MO    2a…"
      ]
     },
     "metadata": {},
     "output_type": "display_data"
    },
    {
     "data": {
      "text/plain": [
       "<fortecubeview.cube_viewer.CubeViewer at 0x7f8907bfca90>"
      ]
     },
     "execution_count": 11,
     "metadata": {},
     "output_type": "execute_result"
    }
   ],
   "source": [
    "!mkdir mos\n",
    "\n",
    "psi4.cubeprop(wfn)\n",
    "\n",
    "import fortecubeview\n",
    "fortecubeview.plot()"
   ]
  },
  {
   "cell_type": "markdown",
   "metadata": {},
   "source": [
    "Note that **in UHF the orbitals may be different but this is not always the case**. For example, if you apply UHF to a closed shell system then often you recover the RHF solution. For example"
   ]
  },
  {
   "cell_type": "code",
   "execution_count": 12,
   "metadata": {},
   "outputs": [
    {
     "name": "stdout",
     "output_type": "stream",
     "text": [
      "The difference between the RHF and UHF energy is 0.0\n"
     ]
    }
   ],
   "source": [
    "psi4.geometry(\"\"\"\n",
    "0 1\n",
    "H\n",
    "F 1 1.0\n",
    "symmetry c1\n",
    "\"\"\")\n",
    "\n",
    "psi4.set_options({'REFERENCE' : 'UHF'})\n",
    "e_uhf = psi4.energy('HF/def2-SVP')\n",
    "\n",
    "psi4.set_options({'REFERENCE' : 'RHF'})\n",
    "e_rhf = psi4.energy('HF/def2-SVP')\n",
    "\n",
    "print(f'The difference between the RHF and UHF energy is {e_rhf - e_uhf}')"
   ]
  },
  {
   "cell_type": "markdown",
   "metadata": {},
   "source": [
    "## General case\n",
    "\n",
    "When we have more than one electron, we use capital letters to refer to the sum of the angular momentum of all electrons. The quantum number $M_S$ is the sum of the z component of spin for all the electrons, which is given by the difference between the number of alpha and beta electrons divided by 2\n",
    "$$\n",
    "M_S = \\frac{1}{2} (N_\\alpha - N_\\beta)\n",
    "$$\n",
    "\n",
    "An important result in the theory of angular momentum is that a system with total spin equal to $S$ has multiplicity = $2S + 1$, which means that there are $2S + 1$ states with the same total spin. These states have z-projection of spin that ranges from $-S$ to $S$ in increments of 1\n",
    "$$\n",
    "-S, -S + 1, -S + 2, \\ldots, S - 2, S-1, S\n",
    "$$\n",
    "\n",
    "Now consider the case of HF$^+$. This molecule has 5 alpha and 4 beta electrons (or the other way around).\n",
    "For HF$^+$ has $M_S = 1/2$ which comes from the 5 alpha and 4 beta electrons ((5 - 4)/2).\n",
    "\n",
    "For HF$^+$ this means that the state with one unpaired alpha electron corresponds to $S = 1/2$. If it was otherwise things would not work out. For example, if $S = 1$ then we should find state with \n",
    "$$\n",
    "M_S = -1, 0, +1\n",
    "$$\n",
    "but we know that with one unpaired electron we need to have a state with $M_S = 1/2$.\n",
    "If we postulated that $S = 3/2$ then we should be able to find states with\n",
    "$$\n",
    "M_S = -3/2, -1/2, 1/2 , 3/2\n",
    "$$\n",
    "However, with only one unpaired electron we cannot have a state with $M_S = 3/2$.\n",
    "\n",
    "To summarize, the HF$^+$ molecule has multiplicity equal to $2S + 1 = 2 1/2 + 1 = 2$."
   ]
  },
  {
   "cell_type": "code",
   "execution_count": null,
   "metadata": {},
   "outputs": [],
   "source": []
  },
  {
   "cell_type": "markdown",
   "metadata": {},
   "source": [
    "## Spin contamination of unrestricted wave functions\n",
    "\n",
    "ROHF and UHF generally yield different energies"
   ]
  },
  {
   "cell_type": "code",
   "execution_count": 28,
   "metadata": {},
   "outputs": [
    {
     "name": "stdout",
     "output_type": "stream",
     "text": [
      "E(ROHF) = -99.40734247254734 Eh\n",
      "E(UHF)  = -99.4115915867321  Eh\n",
      "The difference between the ROHF and UHF energy is 0.004249114184759151\n"
     ]
    }
   ],
   "source": [
    "psi4.geometry(\"\"\"\n",
    "1 2\n",
    "H\n",
    "F 1 1.0\n",
    "symmetry c1\n",
    "\"\"\")\n",
    "\n",
    "psi4.set_options({'REFERENCE' : 'ROHF'})\n",
    "e_rohf = psi4.energy('HF/def2-SVP')\n",
    "\n",
    "psi4.set_output_file('uhf.txt',False)\n",
    "\n",
    "psi4.set_options({'REFERENCE' : 'UHF'})\n",
    "e_uhf = psi4.energy('HF/def2-SVP')\n",
    "\n",
    "print(f'E(ROHF) = {e_rohf} Eh')\n",
    "print(f'E(UHF)  = {e_uhf}  Eh')\n",
    "print(f'The difference between the ROHF and UHF energy is {e_rohf - e_uhf}')"
   ]
  },
  {
   "cell_type": "markdown",
   "metadata": {},
   "source": [
    "Why is there an energy difference between the ROHF and UHF? And why is UHF the lower solution? Let's check the output"
   ]
  },
  {
   "cell_type": "code",
   "execution_count": 33,
   "metadata": {},
   "outputs": [
    {
     "name": "stdout",
     "output_type": "stream",
     "text": [
      "   @DF-UHF iter   6:   -99.41158993908849   -1.29086e-05   5.22563e-05 DIIS\n",
      "   @DF-UHF iter   7:   -99.41159154518073   -1.60609e-06   9.26010e-06 DIIS\n",
      "   @DF-UHF iter   8:   -99.41159158594449   -4.07638e-08   1.60858e-06 DIIS\n",
      "   @DF-UHF iter   9:   -99.41159158673210   -7.87608e-10   2.35384e-07 DIIS\n",
      "  Energy and wave function converged.\n",
      "\n",
      "\n",
      "  ==> Post-Iterations <==\n",
      "\n",
      "   @Spin Contamination Metric:   4.248071198E-03\n",
      "   @S^2 Expected:                7.500000000E-01\n",
      "   @S^2 Observed:                7.542480712E-01\n",
      "   @S   Expected:                5.000000000E-01\n",
      "   @S   Observed:                5.000000000E-01\n",
      "\n",
      "    Orbital Energies [Eh]\n",
      "    ---------------------\n",
      "\n",
      "    Alpha Occupied:                                                       \n",
      "\n",
      "       1A    -26.964701     2A     -2.206046     3A     -1.369701  \n",
      "       4A     -1.337649     5A     -1.255858  \n",
      "\n",
      "    Alpha Virtual:                                                        \n",
      "\n",
      "       6A     -0.208760     7A      0.310492     8A      0.827823  \n",
      "       9A      0.887979    10A      0.925695    11A      1.136091  \n",
      "      12A      1.232614    13A      1.254745    14A      1.905995  \n",
      "      15A      2.823118    16A      2.823684    17A      3.080857  \n",
      "      18A      3.150264    19A      3.971894  \n",
      "\n",
      "    Beta Occupied:                                                        \n",
      "\n",
      "       1A    -26.909949     2A     -2.014162     3A     -1.283175  \n",
      "       4A     -1.199818  \n",
      "\n",
      "    Beta Virtual:                                                         \n",
      "\n",
      "       5A     -0.413930     6A     -0.196761     7A      0.315328  \n",
      "       8A      0.908456     9A      0.959386    10A      1.024824  \n",
      "      11A      1.173154    12A      1.253624    13A      1.271096  \n",
      "      14A      1.925770    15A      2.956369    16A      2.957761  \n",
      "      17A      3.168353    18A      3.201529    19A      4.013751  \n",
      "\n",
      "    Final Occupation by Irrep:\n",
      "              A \n",
      "    DOCC [     4 ]\n",
      "    SOCC [     1 ]\n",
      "\n",
      "  @DF-UHF Final Energy:   -99.41159158673210\n",
      "\n",
      "   => Energetics <=\n",
      "\n",
      "    Nuclear Repulsion Energy =              4.7625948960300004\n",
      "    One-Electron Energy =                -143.8073107426630486\n",
      "    Two-Electron Energy =                  39.6331242599009457\n",
      "    Total Energy =                        -99.4115915867321007\n",
      "\n",
      "  UHF NO Occupations:\n",
      "  HONO-2 :    3  A 1.9994921\n",
      "  HONO-1 :    4  A 1.9985220\n",
      "  HONO-0 :    5  A 1.0000000\n",
      "  LUNO+0 :    6  A 0.0014780\n",
      "  LUNO+1 :    7  A 0.0005079\n",
      "  LUNO+2 :    8  A 0.0001392\n",
      "  LUNO+3 :    9  A 0.0000001\n",
      "\n",
      "\n",
      "Computation Completed\n",
      "\n",
      "\n",
      "Properties will be evaluated at   0.000000,   0.000000,   0.000000 [a0]\n",
      "\n",
      "Properties computed using the SCF density matrix\n",
      "\n",
      "  Nuclear Dipole Moment: [e a0]\n",
      "     X:     0.0000      Y:     0.0000      Z:    -0.9378\n",
      "\n",
      "  Electronic Dipole Moment: [e a0]\n",
      "     X:     0.0000      Y:    -0.0000      Z:    -0.1475\n",
      "\n",
      "  Dipole Moment: [e a0]\n",
      "     X:     0.0000      Y:    -0.0000      Z:    -1.0853     Total:     1.0853\n",
      "\n",
      "  Dipole Moment: [D]\n",
      "     X:     0.0000      Y:    -0.0000      Z:    -2.7584     Total:     2.7584\n",
      "\n",
      "\n",
      "*** tstop() called on CHE-FEVANGE-01I (2) at Wed Oct  7 13:51:58 2020\n",
      "Module time:\n",
      "\tuser time   =       0.66 seconds =       0.01 minutes\n",
      "\tsystem time =       0.02 seconds =       0.00 minutes\n",
      "\ttotal time  =          1 seconds =       0.02 minutes\n",
      "Total time:\n",
      "\tuser time   =      60.15 seconds =       1.00 minutes\n",
      "\tsystem time =       1.89 seconds =       0.03 minutes\n",
      "\ttotal time  =       1410 seconds =      23.50 minutes\n",
      "\n"
     ]
    }
   ],
   "source": [
    "with open('uhf.txt') as f:\n",
    "    print(''.join(f.readlines()[130:]))"
   ]
  },
  {
   "cell_type": "code",
   "execution_count": null,
   "metadata": {},
   "outputs": [],
   "source": []
  },
  {
   "cell_type": "code",
   "execution_count": 3,
   "metadata": {},
   "outputs": [
    {
     "name": "stdout",
     "output_type": "stream",
     "text": [
      "Optimizer: Optimization complete!\n"
     ]
    }
   ],
   "source": [
    "import psi4 \n",
    "psi4.geometry(f\"\"\"\n",
    "0 3\n",
    "C\n",
    "H 1 1.0\n",
    "H 1 1.0 2 104.5\n",
    "symmetry c1\n",
    "\"\"\")\n",
    "\n",
    "psi4.set_options({'REFERENCE' : 'UKS'})\n",
    "e, wfn = psi4.optimize('B3LYP/def2-SVP',return_wfn=True)"
   ]
  },
  {
   "cell_type": "code",
   "execution_count": 10,
   "metadata": {},
   "outputs": [
    {
     "name": "stdout",
     "output_type": "stream",
     "text": [
      "mkdir: ch2: File exists\r\n"
     ]
    }
   ],
   "source": [
    "!mkdir ch2\n",
    "psi4.set_options({'CUBEPROP_FILEPATH' : './ch2','CUBEPROP_TASKS' : ['DENSITY']})\n",
    "psi4.cubeprop(wfn)"
   ]
  },
  {
   "cell_type": "code",
   "execution_count": 19,
   "metadata": {},
   "outputs": [
    {
     "name": "stdout",
     "output_type": "stream",
     "text": [
      "Da.cube  Db.cube  Ds.cube  Dt.cube  geom.xyz\n",
      "CubeViewer: listing cube files from the directory ./ch2\n",
      "Reading 4 cube files\n"
     ]
    },
    {
     "data": {
      "application/vnd.jupyter.widget-view+json": {
       "model_id": "5dfbec5f02bd4f2c8e1c70056ceff1af",
       "version_major": 2,
       "version_minor": 0
      },
      "text/plain": [
       "VBox(children=(HTML(value=''), Renderer(camera=OrthographicCamera(bottom=-5.0, children=(DirectionalLight(colo…"
      ]
     },
     "metadata": {},
     "output_type": "display_data"
    },
    {
     "data": {
      "application/vnd.jupyter.widget-view+json": {
       "model_id": "9ace1f69556848b788f5b799ca4c2bde",
       "version_major": 2,
       "version_minor": 0
      },
      "text/plain": [
       "HTML(value='\\n        <style>\\n           .jupyter-widgets-output-area .output_scroll {\\n                heigh…"
      ]
     },
     "metadata": {},
     "output_type": "display_data"
    },
    {
     "data": {
      "application/vnd.jupyter.widget-view+json": {
       "model_id": "279b88ca9d9943c3bed70b5d78f1dfd4",
       "version_major": 2,
       "version_minor": 0
      },
      "text/plain": [
       "interactive(children=(Select(description='Cube files:', options=('Density (alpha)', 'Density (beta)', 'Density…"
      ]
     },
     "metadata": {},
     "output_type": "display_data"
    },
    {
     "data": {
      "text/plain": [
       "<fortecubeview.cube_viewer.CubeViewer at 0x7fac7545a190>"
      ]
     },
     "execution_count": 19,
     "metadata": {},
     "output_type": "execute_result"
    }
   ],
   "source": [
    "!ls ch2\n",
    "# !rm ch2/Ps*\n",
    "\n",
    "import fortecubeview\n",
    "fortecubeview.plot(path='./ch2',sumlevel=0.9)"
   ]
  },
  {
   "cell_type": "code",
   "execution_count": null,
   "metadata": {},
   "outputs": [],
   "source": []
  }
 ],
 "metadata": {
  "kernelspec": {
   "display_name": "Python 3",
   "language": "python",
   "name": "python3"
  },
  "language_info": {
   "codemirror_mode": {
    "name": "ipython",
    "version": 3
   },
   "file_extension": ".py",
   "mimetype": "text/x-python",
   "name": "python",
   "nbconvert_exporter": "python",
   "pygments_lexer": "ipython3",
   "version": "3.7.6"
  }
 },
 "nbformat": 4,
 "nbformat_minor": 4
}
