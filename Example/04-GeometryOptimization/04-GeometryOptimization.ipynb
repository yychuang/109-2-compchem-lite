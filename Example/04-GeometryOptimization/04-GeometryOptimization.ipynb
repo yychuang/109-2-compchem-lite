{
 "cells": [
  {
   "cell_type": "markdown",
   "metadata": {},
   "source": [
    "# Tutorial 04: Geometry optimization and transition state search\n",
    "\n",
    "In this tutorial you will learn more about geometry optimization and we will take a look at computing the transtion state of simple reactions."
   ]
  },
  {
   "cell_type": "code",
   "execution_count": 1,
   "metadata": {},
   "outputs": [],
   "source": [
    "import psi4\n",
    "\n",
    "import numpy as np"
   ]
  },
  {
   "cell_type": "markdown",
   "metadata": {},
   "source": [
    "## Transition state of the Be + H$_2$ reaction\n",
    "\n",
    "In this example we will try to find the transition state for the Be + H$_2$ insertion reaction that leads to the H-Be-H molecule.\n",
    "\n",
    "### Finding a guess for the transition state\n",
    "\n",
    "To locate the transition state, we will first scan the potential energy surface to indentify an initial guess for the transition state.\n",
    "\n",
    "We start by defining a function that returns the geometry of BeH$_2$ with the hydrogen in position (±0.7,0,0) Å and the Be atom in position (x,y,0).\n",
    "All atoms lie in the z = 0 plane."
   ]
  },
  {
   "cell_type": "code",
   "execution_count": null,
   "metadata": {},
   "outputs": [],
   "source": []
  },
  {
   "cell_type": "code",
   "execution_count": 2,
   "metadata": {},
   "outputs": [],
   "source": [
    "theorylevel = 'b3lyp/def2-SVP'\n",
    "\n",
    "def beh2_geom(x,y):\n",
    "    return psi4.geometry(f\"\"\"\n",
    "    H   0.7  0.000  0.000\n",
    "    H  -0.7  0.000  0.000    \n",
    "    Be {x}  {y}  0.000\n",
    "    symmetry c1    \n",
    "    \"\"\")"
   ]
  },
  {
   "cell_type": "markdown",
   "metadata": {},
   "source": [
    "Now we can test the function to generate the geometry. If you have `fortecubeview` installed you can just run the following snippet of python code\n",
    "\n",
    "```python\n",
    "import fortecubeview\n",
    "fortecubeview.geom(molecule=beh2_geom(0.5,1.5))\n",
    "```\n",
    "\n",
    "and this will generate the following structure\n",
    "\n",
    "<img src='beh2_test.png' width='200 px'>"
   ]
  },
  {
   "cell_type": "code",
   "execution_count": 6,
   "metadata": {},
   "outputs": [
    {
     "data": {
      "application/vnd.jupyter.widget-view+json": {
       "model_id": "d264d7def9d54c06bc23820214ed29e1",
       "version_major": 2,
       "version_minor": 0
      },
      "text/plain": [
       "Renderer(camera=OrthographicCamera(bottom=-5.0, children=(DirectionalLight(color='white', intensity=0.5, posit…"
      ]
     },
     "metadata": {},
     "output_type": "display_data"
    },
    {
     "data": {
      "text/plain": [
       "<fortecubeview.mol_viewer.MolViewer at 0x7fc317e78450>"
      ]
     },
     "execution_count": 6,
     "metadata": {},
     "output_type": "execute_result"
    }
   ],
   "source": [
    "# uncomment the next two lines and run this cell only if you have fortecubeview\n",
    "import fortecubeview\n",
    "# fortecubeview.geom(molecule=beh2_geom(0.5,1.5))\n",
    "# print(beh2_geom(0.5,1.5).to_string(dtype='xyz'))\n",
    "xyz = \"\"\"\n",
    "H                     0.291389216757    -1.225832349729     0.000000000000\n",
    "H                    -1.108610783243    -1.225832349729     0.000000000000\n",
    "Be                    0.091389216757     0.274167650271     0.000000000000\n",
    "\"\"\"\n",
    "\n",
    "fortecubeview.geom(xyz=xyz)"
   ]
  },
  {
   "cell_type": "markdown",
   "metadata": {},
   "source": [
    "Let's now look at the potential energy scan as a function of the x and y coordinates of the Be atom.\n",
    "We're going to scan value of x in the range [0.2,1.2] and y in the range [1.0,2.0]. We intentionally avoid the x = 0 geometries (symmetric) because there are some issues with the electronic structure.\n",
    "\n",
    "I have generated some data with the following code:\n",
    "\n",
    "```python \n",
    "# Scan the energy as a function of the position of the Be atom\n",
    "psi4.set_options({'E_CONVERGENCE' : 1.0e-6,'D_CONVERGENCE' : 1.0e-1})\n",
    "delta = 0.1\n",
    "x = np.arange(0.2, 1.2, delta)\n",
    "y = np.arange(1.0, 2.0, delta)\n",
    "X, Y = np.meshgrid(x, y)\n",
    "\n",
    "E = np.zeros((10,10))\n",
    "for i, myx in enumerate(x):\n",
    "    for j, myy in enumerate(y):\n",
    "        mol = beh2_geom(myx,myy)\n",
    "        E[j][i]= psi4.energy(theorylevel,molecule=mol)\n",
    "```\n",
    "After running this code I saved the energy to a file (together with the x and y coordinates). The following code load this and plots it"
   ]
  },
  {
   "cell_type": "code",
   "execution_count": 7,
   "metadata": {},
   "outputs": [
    {
     "data": {
      "text/plain": [
       "Text(0.5, 1.0, 'Potential energy scan')"
      ]
     },
     "execution_count": 7,
     "metadata": {},
     "output_type": "execute_result"
    },
    {
     "data": {
      "image/png": "[encoded data removed]",
      "text/plain": [
       "<Figure size 432x288 with 1 Axes>"
      ]
     },
     "metadata": {
      "needs_background": "light"
     },
     "output_type": "display_data"
    }
   ],
   "source": [
    "import matplotlib\n",
    "import matplotlib.cm as cm\n",
    "import matplotlib.pyplot as plt\n",
    "\n",
    "X = np.load('X.npy')\n",
    "Y = np.load('Y.npy')\n",
    "E = np.load('energy.npy')\n",
    "\n",
    "fig, ax = plt.subplots()\n",
    "CS = ax.contour(X, Y, E)\n",
    "ax.clabel(CS, inline=1, fontsize=10)\n",
    "ax.set_title('Potential energy scan')"
   ]
  },
  {
   "cell_type": "markdown",
   "metadata": {},
   "source": [
    "This plot shows the typical structure of a saddle point with the transition state located approximately around x = 0.7 and y = 1.5 Å. In one direction (bottom left <-> top right) the curvature of the energy is **positive**, while in the orthogonal direction (top left <-> bottom right) the curvature is **negative**. We can visualize this guess and it looks like\n",
    "\n",
    "<img src='beh2_ts_guess.png' width='200 px'>\n",
    "\n",
    "If you have fortecubeview, you can generate this figure with the command:\n",
    "```python\n",
    "ts_guess = beh2_geom(0.7,1.5)\n",
    "fortecubeview.geom(molecule=ts_guess)\n",
    "```"
   ]
  },
  {
   "cell_type": "code",
   "execution_count": 19,
   "metadata": {},
   "outputs": [],
   "source": [
    "# ts_guess = beh2_geom(0.7,1.5)\n",
    "# fortecubeview.geom(molecule=ts_guess)"
   ]
  },
  {
   "cell_type": "markdown",
   "metadata": {},
   "source": [
    "### Transition state optimization\n",
    "Next we will use this structure to perform a transition state search.\n",
    "However, before we run `psi4.optimize` we need to set a few important options:\n",
    "- We tell psi4 to run a transition state search with the option `OPT_TYPE`, which we set to `TS` (for transition state).\n",
    "- We ask psi4 to compute the full hessian at the beginning of the transition state search by setting the vairable `FULL_HESS_EVERY` to 0 (which means compute the Hessian only on the first step of the TS search).\n",
    "**This option is critical for the success of the TS search, because by default psi4 will use an empirical  Hessian, which is likely to have the wrong eigenvalue structure.** For challenging TS optimizations you could also try to set `FULL_HESS_EVERY` to 2-4, which instructs psi4 to recompute the Hessian every 2-4 geometry steps.\n",
    "\n",
    "These options can be set with the command:\n",
    "```python\n",
    "psi4.set_options({'OPT_TYPE' : 'TS', 'FULL_HESS_EVERY': 0})\n",
    "```\n",
    "\n",
    "The next cell performs the transition state search"
   ]
  },
  {
   "cell_type": "code",
   "execution_count": 10,
   "metadata": {},
   "outputs": [
    {
     "name": "stdout",
     "output_type": "stream",
     "text": [
      " 13 displacements needed.\n",
      " 1 2 3 4 5 6 7 8 9 10 11 12 13\n",
      "Warning: thermodynamics relations excluded imaginary frequencies: ['1817.0261i' '136.2952i']\n",
      "Warning: used thermodynamics relations inappropriate for low-frequency modes: ['147.4104']\n",
      "Optimizer: Optimization complete!\n"
     ]
    },
    {
     "data": {
      "text/plain": [
       "-15.726766179877407"
      ]
     },
     "execution_count": 10,
     "metadata": {},
     "output_type": "execute_result"
    }
   ],
   "source": [
    "psi4.set_options({'OPT_TYPE' : 'TS', 'FULL_HESS_EVERY': 0})\n",
    "psi4.optimize(theorylevel,molecule=ts_guess)"
   ]
  },
  {
   "cell_type": "markdown",
   "metadata": {},
   "source": [
    "We can now visualize the optimized geometry with the command\n",
    "```python\n",
    "fortecubeview.geom(molecule=ts_guess)\n",
    "```\n",
    "to get\n",
    "<img src='beh2_ts_opt.png' width='200 px'>"
   ]
  },
  {
   "cell_type": "code",
   "execution_count": 18,
   "metadata": {},
   "outputs": [],
   "source": [
    "# fortecubeview.geom(molecule=ts_guess)"
   ]
  },
  {
   "cell_type": "markdown",
   "metadata": {},
   "source": [
    "This looks like the transition state for the insertion of Be in the H-H bond. Since the optimization converged we know that it is a stationary point. However, we should check that it has one imaginary frequency. We can do this by running a frequency computation.\n",
    "\n",
    "To visualize the normal modes we are going to tell psi4 to save the normal modes to a file with the command\n",
    "```python\n",
    "psi4.set_options({'NORMAL_MODES_WRITE':True})\n",
    "```\n",
    "At the end of the computation psi4 will make a file named something like `stdout.default.21138.molden_normal_modes`. The number `21138` in this name is the identification number of the process running psi4."
   ]
  },
  {
   "cell_type": "code",
   "execution_count": 15,
   "metadata": {},
   "outputs": [
    {
     "name": "stdout",
     "output_type": "stream",
     "text": [
      " 7 displacements needed.\n",
      " 1 2 3 4 5 6 7\n",
      "Warning: thermodynamics relations excluded imaginary frequencies: ['2840.4098i']\n"
     ]
    },
    {
     "data": {
      "text/plain": [
       "-15.72676617987761"
      ]
     },
     "execution_count": 15,
     "metadata": {},
     "output_type": "execute_result"
    }
   ],
   "source": [
    "psi4.set_options({'NORMAL_MODES_WRITE':True})\n",
    "psi4.frequencies(theorylevel,molecule=ts_guess)"
   ]
  },
  {
   "cell_type": "markdown",
   "metadata": {},
   "source": [
    "We can now plot the normal modes with the following code\n",
    "```python\n",
    "fortecubeview.vib('stdout.default.21138.molden_normal_modes')\n",
    "```\n",
    "which shows this image for the imaginary mode\n",
    "<img src='beh2_ts_imag_mode.png' width='200 px'>\n",
    "This figure shows indeed that the transition state corresponds to pulling the two hydrogen atoms apart to insert Be in the H-H bond."
   ]
  },
  {
   "cell_type": "code",
   "execution_count": 7,
   "metadata": {},
   "outputs": [
    {
     "data": {
      "application/vnd.jupyter.widget-view+json": {
       "model_id": "f4eb535e9c8f4b68a67e17aa576c4f5d",
       "version_major": 2,
       "version_minor": 0
      },
      "text/plain": [
       "VBox(children=(HTML(value=''), Renderer(camera=OrthographicCamera(bottom=-5.0, children=(DirectionalLight(colo…"
      ]
     },
     "metadata": {},
     "output_type": "display_data"
    },
    {
     "data": {
      "application/vnd.jupyter.widget-view+json": {
       "model_id": "0e4baac57e9d493a8868c92b30c605d6",
       "version_major": 2,
       "version_minor": 0
      },
      "text/plain": [
       "HTML(value='\\n        <style>\\n           .jupyter-widgets-output-area .output_scroll {\\n                heigh…"
      ]
     },
     "metadata": {},
     "output_type": "display_data"
    },
    {
     "data": {
      "application/vnd.jupyter.widget-view+json": {
       "model_id": "02f035a3f15e4414bf8e67189fbaf31f",
       "version_major": 2,
       "version_minor": 0
      },
      "text/plain": [
       "interactive(children=(Select(description='Select:', options=('1: Imaginary mode (i2840.4 cm^-1)', '2: Normal m…"
      ]
     },
     "metadata": {},
     "output_type": "display_data"
    },
    {
     "data": {
      "text/plain": [
       "<fortecubeview.vib_viewer.VibViewer at 0x7fc317e69f10>"
      ]
     },
     "execution_count": 7,
     "metadata": {},
     "output_type": "execute_result"
    }
   ],
   "source": [
    "fortecubeview.vib('stdout.default.21138.molden_normal_modes')"
   ]
  },
  {
   "cell_type": "markdown",
   "metadata": {},
   "source": [
    "## Next steps\n",
    "\n",
    "Once you have found a transition state we can compute several quantities:\n",
    "1. We can compute the energy barrier for the insertion reaction.\n",
    "1. We can compute the forward and backward IRC path to confirm that this transition state connects to the reactant (Be + H$_2$) and product (H-Be-H).\n",
    "1. For more complex reactions you might want to search for other reaction paths."
   ]
  }
 ],
 "metadata": {
  "kernelspec": {
   "display_name": "Python 3",
   "language": "python",
   "name": "python3"
  },
  "language_info": {
   "codemirror_mode": {
    "name": "ipython",
    "version": 3
   },
   "file_extension": ".py",
   "mimetype": "text/x-python",
   "name": "python",
   "nbconvert_exporter": "python",
   "pygments_lexer": "ipython3",
   "version": "3.7.6"
  }
 },
 "nbformat": 4,
 "nbformat_minor": 4
}
