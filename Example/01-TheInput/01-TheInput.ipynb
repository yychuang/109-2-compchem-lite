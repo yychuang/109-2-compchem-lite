{
 "cells": [
  {
   "cell_type": "markdown",
   "metadata": {},
   "source": [
    "# Psi4 Tutorial 01: Introduction\n",
    "\n",
    "In this tutorial you will learn more about running simple computations with psi4. We will get into some of the more technical details of computations.\n",
    "\n",
    "## Import psi4, set the total memory, and output file\n",
    "As always, we start by importing psi4\n",
    "On chemcompute you have up to 2GB of memory that you can use. To be safe, we will tell psi4 that it can use up to 1 GB of memory with the command `psi4.set_memory('1 GB')`. This command will return the total memory set in bytes. We will also tell psi4 to print all the output in the file `output.dat` with the command `psi4.core.set_output_file('output.dat',False)`"
   ]
  },
  {
   "cell_type": "code",
   "execution_count": null,
   "metadata": {},
   "outputs": [],
   "source": [
    "import psi4\n",
    "\n",
    "psi4.set_memory('1 GB')\n",
    "psi4.core.set_output_file('output.dat', False)"
   ]
  },
  {
   "cell_type": "markdown",
   "metadata": {},
   "source": [
    "## Specifying the geometry. Cartesian coordinates\n",
    "\n",
    "Our first computation will be on carbon monoxide (CO). One way we can specify its geometry is via Cartesian coordinates. Here we are going to be more specific and tell psi4 that we are going to study a neutral molecule (charge = 0) and spin multiplicity equal to a singlet (multiplicity = 2S + 1 = 0), since all electrons are paired. This information is passed in the first line, which takes the format \n",
    "```\n",
    "<charge>  <multiplicity>\n",
    "<symbol1> <x1> <y1> <z1>\n",
    "...\n",
    "```\n",
    "So in our case we pass the numbers `0 1` "
   ]
  },
  {
   "cell_type": "code",
   "execution_count": null,
   "metadata": {},
   "outputs": [],
   "source": [
    "co_cart = psi4.geometry(\"\"\"\n",
    "0 1\n",
    "C 0.000000 0.000000 0.000000\n",
    "O 0.000000 0.000000 1.128323\n",
    "\"\"\")"
   ]
  },
  {
   "cell_type": "markdown",
   "metadata": {},
   "source": [
    "Let's check the geometry with the `to_string` function"
   ]
  },
  {
   "cell_type": "code",
   "execution_count": null,
   "metadata": {},
   "outputs": [],
   "source": [
    "print(co_cart.to_string(dtype='xyz'))"
   ]
  },
  {
   "cell_type": "markdown",
   "metadata": {},
   "source": [
    "## Z-matrix coordinates\n",
    "\n",
    "Another way to provide a geometry is via the Z-matrix format. It is more natural to setup some geometries using the Z-matrix format and so it has some advantages. However, for larger molecules Cartesian coordinates are usually better. The Z-matrix format is best learned via a series of examples. \n",
    "For a simple diatomic A-B the Z-matrix is simply\n",
    "```\n",
    "A\n",
    "B 1 <distance A-B>\n",
    "```\n",
    "\n",
    "For example, for CO we specify the Z-matrix in the following way (note how the result is equivalent to that of the XYZ geometry)"
   ]
  },
  {
   "cell_type": "code",
   "execution_count": null,
   "metadata": {},
   "outputs": [],
   "source": [
    "co_zmat = psi4.geometry(\"\"\"\n",
    "0 1\n",
    "C\n",
    "O 1 1.128323\n",
    "\"\"\")\n",
    "\n",
    "print(co_zmat.to_string(dtype='xyz'))"
   ]
  },
  {
   "cell_type": "markdown",
   "metadata": {},
   "source": [
    "In this Z-matrix:\n",
    "- `C` indicates that the first atom is a carbon.\n",
    "- `O 1 1.128323` indicates that the second atom is an oxygen, and that this atom is 1.128323 Å away from the first atom.\n",
    "\n",
    "Now we can go ahead and optimize the geometry"
   ]
  },
  {
   "cell_type": "code",
   "execution_count": null,
   "metadata": {},
   "outputs": [],
   "source": [
    "psi4.optimize('scf/cc-pvdz', molecule=co_zmat)"
   ]
  },
  {
   "cell_type": "code",
   "execution_count": null,
   "metadata": {},
   "outputs": [],
   "source": [
    "print(co_zmat.to_string(dtype='xyz'))"
   ]
  },
  {
   "cell_type": "markdown",
   "metadata": {},
   "source": [
    "## Z-matrix for triatomic molecules\n",
    "\n",
    "Let's now move to a triatomic molecule, water. In the general case of a Z-matrix for the A-B-C molecule there is one additional line for the third atom (C). To give a geometry we have to specify: the atom X from which we will measure the distance of C, the distance C-X, a second atom Y which will be used to specify the bond angle C-X-Y, and the bond angle C-X-Y\n",
    "```\n",
    "A\n",
    "B 1 <distance A-B>\n",
    "C <connected to X> <distance C-X> <angle to Y> <angle C-X-Y (degrees)>\n",
    "```\n",
    "\n",
    "For the water molecule we can number the atoms in the following way\n",
    "\n",
    "<img src=\"./water_zmat.pdf\" alt=\"h2 molecule\" width=\"200\"/>\n",
    "\n",
    "If we use a bond distance of 1 Å and an angle of 104.5 degrees then the Z-matrix is given by"
   ]
  },
  {
   "cell_type": "code",
   "execution_count": null,
   "metadata": {},
   "outputs": [],
   "source": [
    "h2o_zmat = psi4.geometry(\"\"\"\n",
    "0 1\n",
    "O\n",
    "H 1 1.0\n",
    "H 1 1.0 2 104.5\n",
    "\"\"\")\n",
    "\n",
    "print(h2o_zmat.to_string(dtype='xyz'))"
   ]
  },
  {
   "cell_type": "markdown",
   "metadata": {},
   "source": [
    "Let's run a Hartree–Fock computation using the cc-pVDZ basis and optimize the geometry"
   ]
  },
  {
   "cell_type": "code",
   "execution_count": null,
   "metadata": {},
   "outputs": [],
   "source": [
    "scf_e = psi4.optimize('scf/cc-pvdz', molecule=h2o_zmat)"
   ]
  },
  {
   "cell_type": "code",
   "execution_count": null,
   "metadata": {},
   "outputs": [],
   "source": [
    "print(f'Energy of water: {scf_e}')\n",
    "print(h2o_zmat.to_string(dtype='xyz'))"
   ]
  },
  {
   "cell_type": "markdown",
   "metadata": {},
   "source": [
    "### Exercise\n",
    "\n",
    "1. Build a zmat for a **linear** water molecule and optimize its geometry.\n",
    "1. Verify that the geometry is still linear. Then compute the energy difference between the bent and linear geometries, converting the energy difference to kcal/mol.\n",
    "1. **Challenge** Run a computation that will tell you if the linear molecule is a minimum or a transition state."
   ]
  },
  {
   "cell_type": "markdown",
   "metadata": {},
   "source": [
    "### Solution"
   ]
  },
  {
   "cell_type": "code",
   "execution_count": null,
   "metadata": {},
   "outputs": [],
   "source": [
    "h2o_zmat_lin = psi4.geometry(\"\"\"\n",
    "0 1\n",
    "O\n",
    "H 1 1.0\n",
    "H 1 1.0 2 180.0\n",
    "\"\"\")\n",
    "\n",
    "print(h2o_zmat_lin.to_string(dtype='xyz'))"
   ]
  },
  {
   "cell_type": "code",
   "execution_count": null,
   "metadata": {},
   "outputs": [],
   "source": [
    "scf_e_lin = psi4.optimize('scf/cc-pvdz', molecule=h2o_zmat_lin)"
   ]
  },
  {
   "cell_type": "code",
   "execution_count": null,
   "metadata": {},
   "outputs": [],
   "source": [
    "print(h2o_zmat_lin.to_string(dtype='xyz'))"
   ]
  },
  {
   "cell_type": "code",
   "execution_count": null,
   "metadata": {},
   "outputs": [],
   "source": [
    "print(f'Barrier to linearity {627.51*(scf_e_lin-scf_e):.2f} kcal/mol')"
   ]
  },
  {
   "cell_type": "code",
   "execution_count": null,
   "metadata": {},
   "outputs": [],
   "source": [
    "h2o_zmat_bent2 = psi4.geometry(\"\"\"\n",
    "0 1\n",
    "O\n",
    "H 1 1.0\n",
    "H 1 1.0 2 170.0\n",
    "\"\"\")\n",
    "\n",
    "print(h2o_zmat_bent2.to_string(dtype='xyz'))\n",
    "scf_e_bent2 = psi4.optimize('scf/cc-pvdz', molecule=h2o_zmat_bent2)\n",
    "print(h2o_zmat_bent2.to_string(dtype='xyz'))"
   ]
  },
  {
   "cell_type": "code",
   "execution_count": null,
   "metadata": {},
   "outputs": [],
   "source": [
    "print(scf_e_bent2)"
   ]
  },
  {
   "cell_type": "markdown",
   "metadata": {},
   "source": [
    "## Z-matrix for polyatomic molecules\n",
    "\n",
    "Molecules with more than three atoms extend beyond a 2D plane, and so we need to specify dihedreal angles. For example, in the case of hydrogen peroxide (H<sub>2</sub>O<sub>2</sub>) we can number the atoms as\n",
    "\n",
    "<img src=\"./h2o2_zmat.pdf\" alt=\"h2 molecule\" width=\"400\"/>\n",
    "\n",
    "Here is a useful chart when talking about dihedral angles (source wikipedia)\n",
    "\n",
    "<img src=\"./synantipericlinal.png\" alt=\"h2 molecule\" width=\"200\"/>\n",
    "\n",
    "\n",
    "The Z-matrix for hydrogen peroxide is \n",
    "```\n",
    "O\n",
    "O 1 1.4\n",
    "H 2 1.0 1 120.0\n",
    "H 1 1.0 2 120.0 3 60.0\n",
    "```\n",
    "where in the fourth line we specify that atom H4 has a distance of 1.0 Å from atom O1, it forms a 120 degree angle with atoms O1-O2, and the dihedral angle H4-O1-O2-H3 is 60 degress. The corresponding psi4 input is:"
   ]
  },
  {
   "cell_type": "code",
   "execution_count": null,
   "metadata": {},
   "outputs": [],
   "source": [
    "h2o2_zmat = psi4.geometry(\"\"\"\n",
    "0 1\n",
    "O\n",
    "O 1 1.4\n",
    "H 2 1.0 1 120.0\n",
    "H 1 1.0 2 120.0 3 60.0\n",
    "\"\"\")\n",
    "\n",
    "print(h2o2_zmat.to_string(dtype='xyz'))"
   ]
  },
  {
   "cell_type": "markdown",
   "metadata": {},
   "source": [
    "Note that it possible to indicate bond legths, angles, and dihedrals with symbols and assign these values after the Z-matrix after inserting an empty line"
   ]
  },
  {
   "cell_type": "code",
   "execution_count": null,
   "metadata": {},
   "outputs": [],
   "source": [
    "h2o2_zmat2 = psi4.geometry(\"\"\"\n",
    "0 1\n",
    "O\n",
    "O 1 ROO\n",
    "H 2 ROH 1 A\n",
    "H 1 ROH 2 A 3 D\n",
    "\n",
    "ROH = 1.000\n",
    "ROO = 1.400\n",
    "A = 120.0\n",
    "D = 120.0\n",
    "\"\"\")\n",
    "\n",
    "print(h2o2_zmat2.to_string(dtype='xyz'))"
   ]
  },
  {
   "cell_type": "markdown",
   "metadata": {},
   "source": [
    "This feature is convenient if we want to scan a geometry, for example, change the dihedral angle"
   ]
  },
  {
   "cell_type": "code",
   "execution_count": null,
   "metadata": {},
   "outputs": [],
   "source": [
    "h2o2_zmat2 = psi4.geometry(\"\"\"\n",
    "0 1\n",
    "O\n",
    "O 1 ROO\n",
    "H 2 ROH 1 A\n",
    "H 1 ROH 2 A 3 D\n",
    "\n",
    "ROH = 1.000\n",
    "ROO = 1.400\n",
    "A = 120.0\n",
    "D = 120.0\n",
    "\"\"\")\n",
    "\n",
    "print(h2o2_zmat2.to_string(dtype='xyz'))"
   ]
  },
  {
   "cell_type": "markdown",
   "metadata": {},
   "source": [
    "## Dummy atoms\n",
    "\n",
    "Sometimes it is convenient to use dummy atoms when constructing a Z-matrix input. A dummy atom does not carry electrons or basis functions, and can be useful to specify an anchor atom with respect to which you can specify the molecular geometry.\n",
    "\n",
    "Dummy atoms also are helpful to remove ambiguity in the Z-matrix. Except for triatomics, the Z-matrix format does not accept bond angles of 180 degrees. This is for example the case in acetylene. If we try to specify the geometry of acetylene without dummy atoms, psi4 gives an error since it cannot convert the Z-matrix to Cartesian structure"
   ]
  },
  {
   "cell_type": "code",
   "execution_count": null,
   "metadata": {},
   "outputs": [],
   "source": [
    "c2h2_zmat = psi4.geometry(\"\"\"\n",
    "H\n",
    "C 1 HC\n",
    "C 2 CC 3 A\n",
    "H 3 HC 2 A 1 D\n",
    "HC = 1.08\n",
    "CC = 1.2\n",
    "A = 180.0\n",
    "D = 0.0\n",
    "\"\"\")\n",
    "\n",
    "print(c2h2_zmat.to_string(dtype='xyz'))"
   ]
  },
  {
   "cell_type": "markdown",
   "metadata": {},
   "source": [
    "To avoid this issue we need to introduce two dummy atoms arranged in the following way\n",
    "\n",
    "<img src=\"./c2h2_zmat.pdf\" alt=\"h2 molecule\" width=\"400\"/>"
   ]
  },
  {
   "cell_type": "code",
   "execution_count": null,
   "metadata": {},
   "outputs": [],
   "source": [
    "c2h2_zmat = psi4.geometry(\"\"\"\n",
    "H\n",
    "C 1 HC\n",
    "X 2 CX 1 A1\n",
    "C 2 CC 3 A1 1 D1\n",
    "X 4 CX 2 A1 1 D1\n",
    "H 4 HC 5 A1 2 D1\n",
    "\n",
    "HC = 1.08\n",
    "CX = 1.0\n",
    "CC = 1.2\n",
    "A1 = 90.0\n",
    "D1 = 180.0\n",
    "\"\"\")\n",
    "\n",
    "print(c2h2_zmat.to_string(dtype='xyz'))"
   ]
  },
  {
   "cell_type": "markdown",
   "metadata": {},
   "source": [
    "## Angstrom vs. Bohr\n",
    "\n",
    "So far all inputs have assumed coordinates in units of Å. To specify the geometry in bohr, just add a line at the end of you geometry `units {unit}` where `spec` is one of `ang`, `angstrom`, `a.u.`, `au`, or `bohr`. The latter three specify atomic units"
   ]
  },
  {
   "cell_type": "code",
   "execution_count": null,
   "metadata": {},
   "outputs": [],
   "source": [
    "h2o_zmat_bohr = psi4.geometry(\"\"\"\n",
    "0 1\n",
    "O\n",
    "H 1 1.89036\n",
    "H 1 1.89036 2 104.5\n",
    "\n",
    "units bohr\n",
    "nocom\n",
    "noreorient\n",
    "\"\"\")\n",
    "\n",
    "print(h2o_zmat_bohr.to_string(dtype='xyz'))"
   ]
  },
  {
   "cell_type": "markdown",
   "metadata": {},
   "source": [
    "## Fancier options\n",
    "\n",
    "There are several other options worth knowing that can be added at the end of the molecule block:\n",
    "1. `noreorient` disable reorientation of the molecule.\n",
    "1. `nocom` disable shifting the molecule to the center of mass.\n",
    "1. `symmetry c1` run a computation ingoring the molecular symmetry.\n",
    "\n",
    "A neat feature is that we can directly query the [pubchem database](http://www.psicode.org/psi4manual/master/psithonmol.html#sec-pubchem) and grab a geometry by specifying its name  or the CID number."
   ]
  },
  {
   "cell_type": "code",
   "execution_count": null,
   "metadata": {},
   "outputs": [],
   "source": [
    "pubchem = psi4.geometry(\"\"\"\n",
    "pubchem:benzene\n",
    "\"\"\")\n",
    "\n",
    "print(pubchem.to_string(dtype='orca'))"
   ]
  },
  {
   "cell_type": "markdown",
   "metadata": {},
   "source": [
    "## Resources \n",
    "\n",
    "To read more about molecule and geometry specifications in psi4 check out the [manual page\n",
    "](http://www.psicode.org/psi4manual/master/psithoninput.html#molecule-and-geometry-specification)."
   ]
  }
 ],
 "metadata": {
  "kernelspec": {
   "display_name": "Python 3",
   "language": "python",
   "name": "python3"
  },
  "language_info": {
   "codemirror_mode": {
    "name": "ipython",
    "version": 3
   },
   "file_extension": ".py",
   "mimetype": "text/x-python",
   "name": "python",
   "nbconvert_exporter": "python",
   "pygments_lexer": "ipython3",
   "version": "3.7.6"
  }
 },
 "nbformat": 4,
 "nbformat_minor": 4
}
