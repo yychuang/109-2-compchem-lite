{
 "cells": [
  {
   "cell_type": "markdown",
   "id": "relative-emission",
   "metadata": {},
   "source": [
    "# Geometry Optimization\n",
    "\n",
    "https://education.molssi.org/qm-tools/01-geom-opt/index.html"
   ]
  },
  {
   "cell_type": "markdown",
   "id": "external-registration",
   "metadata": {},
   "source": [
    "## Optimizaing Benzene"
   ]
  },
  {
   "cell_type": "code",
   "execution_count": 1,
   "id": "specialized-fighter",
   "metadata": {},
   "outputs": [],
   "source": [
    "# import the python modules that we will use\n",
    "import psi4\n",
    "import numpy as np\n",
    "%matplotlib inline\n",
    "import matplotlib.pyplot as plt"
   ]
  },
  {
   "cell_type": "markdown",
   "id": "lyric-construction",
   "metadata": {},
   "source": [
    "The first function plot_R measures the bond distance between two specified atoms at each step of our geometry optimization. The next function, plot_energy extracts the energy at each optimization step."
   ]
  },
  {
   "cell_type": "code",
   "execution_count": 2,
   "id": "political-anatomy",
   "metadata": {},
   "outputs": [],
   "source": [
    "# function to find the bond distance for two specific atoms in the optimization file\n",
    "def plot_R(filename, a, b):\n",
    "    \"\"\"\n",
    "    Function to measure the distance between two atoms in a psi4 geometry optimization output file\n",
    "\n",
    "    Usage: plot_R(filename, a, b)\n",
    "\n",
    "    Inputs:\n",
    "    filename: name of psi4 output file from geometry optimization calclaultion\n",
    "    a and b: atom numbers for two atoms you want to measure the distance between\n",
    "\n",
    "    Output: list of bond distance at for each optimization step\n",
    "    \"\"\"    \n",
    "    with open(filename) as f:\n",
    "        pair_notation = 'R(' + str(a) + ',' + str(b) + ')'\n",
    "        rows_with_R_pairs = [line.split() for line in f if line.find(pair_notation) > 1 and\n",
    "                             line.strip().split()[1].startswith(pair_notation)]\n",
    "        bond_distances = []\n",
    "        bond_distances.append(float(rows_with_R_pairs[0][3]))\n",
    "        for item in rows_with_R_pairs:\n",
    "            bond_distances.append(float(item[6]))\n",
    "        return bond_distances"
   ]
  },
  {
   "cell_type": "code",
   "execution_count": 3,
   "id": "married-announcement",
   "metadata": {},
   "outputs": [],
   "source": [
    "# function to find the energy in the optimization file\n",
    "def plot_energy(filename):\n",
    "    \"\"\"\n",
    "    Function to find the energy in a psi4 optimization file.\n",
    "\n",
    "    Usage: plot_energy(filename)\n",
    "\n",
    "    Inputs: name of psi4 output file from geometry optimization calclaultion\n",
    "    filename: name\n",
    "\n",
    "    Output: list of energy values from each optimization step\n",
    "    \"\"\"\n",
    "\n",
    "    with open(filename) as f:\n",
    "        #energy_string = 'Current energy'\n",
    "        energy_values = [ float(line.split()[3]) for line in f if line.strip().startswith('Current energy') ]\n",
    "        return energy_values"
   ]
  },
  {
   "cell_type": "markdown",
   "id": "ordinary-advertiser",
   "metadata": {},
   "source": [
    "## Setting up the molecule"
   ]
  },
  {
   "cell_type": "code",
   "execution_count": 6,
   "id": "angry-vienna",
   "metadata": {},
   "outputs": [],
   "source": [
    "# set the amount of memory that you will need\n",
    "psi4.set_memory('2 GB')\n",
    "\n",
    "# set the number of threads (processes) for Psi4 to use\n",
    "# (~all modern computers can handle 2 threads)\n",
    "psi4.set_num_threads(2)\n",
    "\n",
    "# set the molecule name for your files and plots\n",
    "molecule_name = \"benzene\"\n",
    "\n",
    "# enter the charge, multiplicity, and starting coordinates of the atoms in your molecule\n",
    "benzene = psi4.geometry(\"\"\"\n",
    "0 1\n",
    "   C       -3.98116        3.81771        0.00000\n",
    "   C       -2.63351        3.75967        0.10838\n",
    "   C       -2.11978        2.80187       -0.29323\n",
    "   C       -2.68901        1.83558       -0.80805\n",
    "   C       -3.92704        1.83138       -0.93484\n",
    "   C       -4.58021        2.71451       -0.58263\n",
    "   H       -4.52562        4.63006        0.32966\n",
    "   H       -2.09025        4.53029        0.52795\n",
    "   H       -1.09209        2.75239       -0.21305\n",
    "   H       -2.13621        1.02769       -1.13476\n",
    "   H       -4.38300        1.01321       -1.36811\n",
    "   H       -5.60487        2.68217       -0.70124\n",
    "\"\"\")\n",
    "\n",
    "# Set the name of the output file for the initial energy calculation\n",
    "# Calculate the initial energy of the molecule using the Hartree-Fock method\n",
    "# and the cc-pVDZ basis set and print the output to a file\n",
    "psi4.set_output_file(F'{molecule_name}_energy_initial.dat', False)\n",
    "psi4.energy('scf/cc-pVDZ')\n",
    "\n",
    "# Set the name of the output file to write the geometry information\n",
    "# Print atomic coordinates and interatomic distances to this file\n",
    "psi4.set_output_file(F'{molecule_name}_geometry_initial.dat', False)\n",
    "benzene.print_out_in_angstrom()\n",
    "benzene.print_distances()"
   ]
  },
  {
   "cell_type": "code",
   "execution_count": 7,
   "id": "classified-antarctica",
   "metadata": {},
   "outputs": [
    {
     "data": {
      "application/vnd.jupyter.widget-view+json": {
       "model_id": "14391680cfd9499e99e4014e56cb692f",
       "version_major": 2,
       "version_minor": 0
      },
      "text/plain": [
       "Renderer(camera=OrthographicCamera(bottom=-5.0, children=(DirectionalLight(color='white', intensity=0.5, posit…"
      ]
     },
     "metadata": {},
     "output_type": "display_data"
    },
    {
     "data": {
      "text/plain": [
       "<fortecubeview.mol_viewer.MolViewer at 0x24a133dba58>"
      ]
     },
     "execution_count": 7,
     "metadata": {},
     "output_type": "execute_result"
    }
   ],
   "source": [
    "import fortecubeview\n",
    "\n",
    "fortecubeview.geom(molecule = benzene)"
   ]
  },
  {
   "cell_type": "markdown",
   "id": "solved-marketplace",
   "metadata": {},
   "source": [
    "## Geometry Optimization"
   ]
  },
  {
   "cell_type": "code",
   "execution_count": 8,
   "id": "dated-heading",
   "metadata": {},
   "outputs": [
    {
     "name": "stdout",
     "output_type": "stream",
     "text": [
      "Optimizer: Optimization complete!\n"
     ]
    }
   ],
   "source": [
    "# optimize the molecular geometry\n",
    "psi4.set_output_file(F'{molecule_name}_geometry_optimization.dat', False)\n",
    "psi4.optimize('scf/cc-pVDZ', molecule=benzene)\n",
    "\n",
    "# print the optimized atomic coordinates and interatomic distances\n",
    "psi4.set_output_file(F'{molecule_name}_geometry_final.dat', False)\n",
    "benzene.print_out_in_angstrom()\n",
    "benzene.print_distances()"
   ]
  },
  {
   "cell_type": "markdown",
   "id": "tracked-correction",
   "metadata": {},
   "source": [
    "## Reading bond distances from the geometry optimization file\n"
   ]
  },
  {
   "cell_type": "code",
   "execution_count": 11,
   "id": "discrete-legislature",
   "metadata": {},
   "outputs": [
    {
     "name": "stdout",
     "output_type": "stream",
     "text": [
      "Help on function plot_R in module __main__:\n",
      "\n",
      "plot_R(filename, a, b)\n",
      "    Function to measure the distance between two atoms in a psi4 geometry optimization output file\n",
      "    \n",
      "    Usage: plot_R(filename, a, b)\n",
      "    \n",
      "    Inputs:\n",
      "    filename: name of psi4 output file from geometry optimization calclaultion\n",
      "    a and b: atom numbers for two atoms you want to measure the distance between\n",
      "    \n",
      "    Output: list of bond distance at for each optimization step\n",
      "\n"
     ]
    }
   ],
   "source": [
    "help(plot_R)"
   ]
  },
  {
   "cell_type": "markdown",
   "id": "organizational-basics",
   "metadata": {},
   "source": [
    "## Plotting how bond distances change during optimization"
   ]
  },
  {
   "cell_type": "code",
   "execution_count": 9,
   "id": "encouraging-bridges",
   "metadata": {},
   "outputs": [
    {
     "data": {
      "image/png": "[encoded data removed]",
      "text/plain": [
       "<Figure size 432x288 with 1 Axes>"
      ]
     },
     "metadata": {
      "needs_background": "light"
     },
     "output_type": "display_data"
    }
   ],
   "source": [
    "# find the bond distance for atoms C1 and C2\n",
    "bond_distances = plot_R('benzene_geometry_optimization.dat',1,2)\n",
    "\n",
    "# plot the bond distances at each iteration of geometry optimization\n",
    "plt.plot(bond_distances,'o')\n",
    "plt.xlabel('iteration')\n",
    "plt.ylabel('distance (angstroms)')\n",
    "plt.title(molecule_name + ' C-C bond distance')\n",
    "plt.show()"
   ]
  },
  {
   "cell_type": "markdown",
   "id": "limited-privacy",
   "metadata": {},
   "source": [
    "## Plotting how energy changes during optimization"
   ]
  },
  {
   "cell_type": "code",
   "execution_count": 10,
   "id": "liquid-january",
   "metadata": {},
   "outputs": [
    {
     "data": {
      "image/png": "[encoded data removed]",
      "text/plain": [
       "<Figure size 432x288 with 1 Axes>"
      ]
     },
     "metadata": {
      "needs_background": "light"
     },
     "output_type": "display_data"
    },
    {
     "data": {
      "text/plain": [
       "<Figure size 432x288 with 0 Axes>"
      ]
     },
     "metadata": {},
     "output_type": "display_data"
    }
   ],
   "source": [
    "# find the energies from this optimization file\n",
    "energy_values = plot_energy('benzene_geometry_optimization.dat')\n",
    "\n",
    "# plot the energies at each iteration\n",
    "plt.figure()\n",
    "plt.plot(energy_values,'o')\n",
    "plt.xlabel(\"iteration\")\n",
    "plt.ylabel(\"energy (Hartrees)\")\n",
    "plt.title(F'{molecule_name} energy')\n",
    "plt.show()\n",
    "plt.savefig(F'benzene_energy.png')"
   ]
  },
  {
   "cell_type": "code",
   "execution_count": 11,
   "id": "front-gilbert",
   "metadata": {},
   "outputs": [
    {
     "data": {
      "application/vnd.jupyter.widget-view+json": {
       "model_id": "70aae0a131c04b63b8dc73dee0107c52",
       "version_major": 2,
       "version_minor": 0
      },
      "text/plain": [
       "Renderer(camera=OrthographicCamera(bottom=-5.0, children=(DirectionalLight(color='white', intensity=0.5, posit…"
      ]
     },
     "metadata": {},
     "output_type": "display_data"
    },
    {
     "data": {
      "text/plain": [
       "<fortecubeview.mol_viewer.MolViewer at 0x24a166b39e8>"
      ]
     },
     "execution_count": 11,
     "metadata": {},
     "output_type": "execute_result"
    }
   ],
   "source": [
    "import fortecubeview\n",
    "\n",
    "fortecubeview.geom(molecule = benzene)"
   ]
  },
  {
   "cell_type": "code",
   "execution_count": null,
   "id": "virtual-joint",
   "metadata": {},
   "outputs": [],
   "source": []
  }
 ],
 "metadata": {
  "kernelspec": {
   "display_name": "Python 3",
   "language": "python",
   "name": "python3"
  },
  "language_info": {
   "codemirror_mode": {
    "name": "ipython",
    "version": 3
   },
   "file_extension": ".py",
   "mimetype": "text/x-python",
   "name": "python",
   "nbconvert_exporter": "python",
   "pygments_lexer": "ipython3",
   "version": "3.7.3"
  }
 },
 "nbformat": 4,
 "nbformat_minor": 5
}
